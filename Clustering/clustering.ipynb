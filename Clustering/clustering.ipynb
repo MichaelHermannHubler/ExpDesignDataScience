{
 "cells": [
  {
   "cell_type": "code",
   "execution_count": 1,
   "metadata": {},
   "outputs": [
    {
     "name": "stderr",
     "output_type": "stream",
     "text": [
      "C:\\ProgramData\\Anaconda3\\lib\\site-packages\\sklearn\\utils\\deprecation.py:144: FutureWarning: The sklearn.cluster.k_means_ module is  deprecated in version 0.22 and will be removed in version 0.24. The corresponding classes / functions should instead be imported from sklearn.cluster. Anything that cannot be imported from sklearn.cluster is now part of the private API.\n",
      "  warnings.warn(message, FutureWarning)\n"
     ]
    },
    {
     "ename": "ImportError",
     "evalue": "cannot import name '_k_means' from 'sklearn.cluster' (C:\\ProgramData\\Anaconda3\\lib\\site-packages\\sklearn\\cluster\\__init__.py)",
     "output_type": "error",
     "traceback": [
      "\u001b[1;31m---------------------------------------------------------------------------\u001b[0m",
      "\u001b[1;31mImportError\u001b[0m                               Traceback (most recent call last)",
      "\u001b[1;32m<ipython-input-1-e062a5245669>\u001b[0m in \u001b[0;36m<module>\u001b[1;34m\u001b[0m\n\u001b[0;32m      1\u001b[0m \u001b[1;31m# Import a file containing all the needed functions.\u001b[0m\u001b[1;33m\u001b[0m\u001b[1;33m\u001b[0m\u001b[1;33m\u001b[0m\u001b[0m\n\u001b[1;32m----> 2\u001b[1;33m \u001b[1;32mfrom\u001b[0m \u001b[0mutils\u001b[0m \u001b[1;32mimport\u001b[0m \u001b[1;33m*\u001b[0m\u001b[1;33m\u001b[0m\u001b[1;33m\u001b[0m\u001b[0m\n\u001b[0m\u001b[0;32m      3\u001b[0m \u001b[1;32mimport\u001b[0m \u001b[0mmatplotlib\u001b[0m\u001b[1;33m.\u001b[0m\u001b[0mpyplot\u001b[0m \u001b[1;32mas\u001b[0m \u001b[0mplt\u001b[0m\u001b[1;33m\u001b[0m\u001b[1;33m\u001b[0m\u001b[0m\n\u001b[0;32m      4\u001b[0m \u001b[1;33m\u001b[0m\u001b[0m\n\u001b[0;32m      5\u001b[0m \u001b[1;31m# Automatic reload the changes in `utils.py`.\u001b[0m\u001b[1;33m\u001b[0m\u001b[1;33m\u001b[0m\u001b[1;33m\u001b[0m\u001b[0m\n",
      "\u001b[1;32m~\\Downloads\\Exercise 2\\ExpDesignDataScience-main\\Clustering\\utils.py\u001b[0m in \u001b[0;36m<module>\u001b[1;34m\u001b[0m\n\u001b[0;32m     35\u001b[0m \u001b[1;32mfrom\u001b[0m \u001b[0msklearn\u001b[0m\u001b[1;33m.\u001b[0m\u001b[0mmetrics\u001b[0m\u001b[1;33m.\u001b[0m\u001b[0mcluster\u001b[0m \u001b[1;32mimport\u001b[0m \u001b[0madjusted_rand_score\u001b[0m\u001b[1;33m,\u001b[0m \u001b[0mnormalized_mutual_info_score\u001b[0m\u001b[1;33m\u001b[0m\u001b[1;33m\u001b[0m\u001b[0m\n\u001b[0;32m     36\u001b[0m \u001b[1;33m\u001b[0m\u001b[0m\n\u001b[1;32m---> 37\u001b[1;33m \u001b[1;32mfrom\u001b[0m \u001b[0mspherecluster\u001b[0m \u001b[1;32mimport\u001b[0m \u001b[0mVonMisesFisherMixture\u001b[0m\u001b[1;33m\u001b[0m\u001b[1;33m\u001b[0m\u001b[0m\n\u001b[0m\u001b[0;32m     38\u001b[0m \u001b[1;33m\u001b[0m\u001b[0m\n\u001b[0;32m     39\u001b[0m \u001b[1;33m\u001b[0m\u001b[0m\n",
      "\u001b[1;32mC:\\ProgramData\\Anaconda3\\lib\\site-packages\\spherecluster\\__init__.py\u001b[0m in \u001b[0;36m<module>\u001b[1;34m\u001b[0m\n\u001b[0;32m      1\u001b[0m \u001b[1;32mfrom\u001b[0m \u001b[0m__future__\u001b[0m \u001b[1;32mimport\u001b[0m \u001b[0mabsolute_import\u001b[0m\u001b[1;33m\u001b[0m\u001b[1;33m\u001b[0m\u001b[0m\n\u001b[1;32m----> 2\u001b[1;33m \u001b[1;32mfrom\u001b[0m \u001b[1;33m.\u001b[0m\u001b[0mspherical_kmeans\u001b[0m \u001b[1;32mimport\u001b[0m \u001b[0mSphericalKMeans\u001b[0m\u001b[1;33m\u001b[0m\u001b[1;33m\u001b[0m\u001b[0m\n\u001b[0m\u001b[0;32m      3\u001b[0m \u001b[1;32mfrom\u001b[0m \u001b[1;33m.\u001b[0m\u001b[0mvon_mises_fisher_mixture\u001b[0m \u001b[1;32mimport\u001b[0m \u001b[0mVonMisesFisherMixture\u001b[0m\u001b[1;33m\u001b[0m\u001b[1;33m\u001b[0m\u001b[0m\n\u001b[0;32m      4\u001b[0m \u001b[1;32mfrom\u001b[0m \u001b[1;33m.\u001b[0m\u001b[0mutil\u001b[0m \u001b[1;32mimport\u001b[0m \u001b[0msample_vMF\u001b[0m\u001b[1;33m\u001b[0m\u001b[1;33m\u001b[0m\u001b[0m\n\u001b[0;32m      5\u001b[0m \u001b[1;33m\u001b[0m\u001b[0m\n",
      "\u001b[1;32mC:\\ProgramData\\Anaconda3\\lib\\site-packages\\spherecluster\\spherical_kmeans.py\u001b[0m in \u001b[0;36m<module>\u001b[1;34m\u001b[0m\n\u001b[0;32m     14\u001b[0m \u001b[1;32mfrom\u001b[0m \u001b[0msklearn\u001b[0m\u001b[1;33m.\u001b[0m\u001b[0mutils\u001b[0m \u001b[1;32mimport\u001b[0m \u001b[0mcheck_array\u001b[0m\u001b[1;33m,\u001b[0m \u001b[0mcheck_random_state\u001b[0m\u001b[1;33m\u001b[0m\u001b[1;33m\u001b[0m\u001b[0m\n\u001b[0;32m     15\u001b[0m \u001b[1;32mfrom\u001b[0m \u001b[0msklearn\u001b[0m\u001b[1;33m.\u001b[0m\u001b[0mutils\u001b[0m\u001b[1;33m.\u001b[0m\u001b[0mvalidation\u001b[0m \u001b[1;32mimport\u001b[0m \u001b[0m_num_samples\u001b[0m\u001b[1;33m\u001b[0m\u001b[1;33m\u001b[0m\u001b[0m\n\u001b[1;32m---> 16\u001b[1;33m \u001b[1;32mfrom\u001b[0m \u001b[0msklearn\u001b[0m\u001b[1;33m.\u001b[0m\u001b[0mcluster\u001b[0m \u001b[1;32mimport\u001b[0m \u001b[0m_k_means\u001b[0m\u001b[1;33m\u001b[0m\u001b[1;33m\u001b[0m\u001b[0m\n\u001b[0m\u001b[0;32m     17\u001b[0m \u001b[1;32mfrom\u001b[0m \u001b[0msklearn\u001b[0m\u001b[1;33m.\u001b[0m\u001b[0mpreprocessing\u001b[0m \u001b[1;32mimport\u001b[0m \u001b[0mnormalize\u001b[0m\u001b[1;33m\u001b[0m\u001b[1;33m\u001b[0m\u001b[0m\n\u001b[0;32m     18\u001b[0m \u001b[1;32mfrom\u001b[0m \u001b[0msklearn\u001b[0m\u001b[1;33m.\u001b[0m\u001b[0mexternals\u001b[0m\u001b[1;33m.\u001b[0m\u001b[0mjoblib\u001b[0m \u001b[1;32mimport\u001b[0m \u001b[0mParallel\u001b[0m\u001b[1;33m,\u001b[0m \u001b[0mdelayed\u001b[0m\u001b[1;33m\u001b[0m\u001b[1;33m\u001b[0m\u001b[0m\n",
      "\u001b[1;31mImportError\u001b[0m: cannot import name '_k_means' from 'sklearn.cluster' (C:\\ProgramData\\Anaconda3\\lib\\site-packages\\sklearn\\cluster\\__init__.py)"
     ]
    }
   ],
   "source": [
    "# Import a file containing all the needed functions.\n",
    "from utils import *\n",
    "import matplotlib.pyplot as plt\n",
    "\n",
    "# Automatic reload the changes in `utils.py`.\n",
    "%load_ext autoreload\n",
    "%autoreload 2"
   ]
  },
  {
   "cell_type": "markdown",
   "metadata": {},
   "source": [
    "# Import and pre-process the data"
   ]
  },
  {
   "cell_type": "code",
   "execution_count": 2,
   "metadata": {},
   "outputs": [],
   "source": [
    "DATA_DIR = \"/storage/dataCollections/20_newsgroups/\"\n",
    "\n",
    "# Folder for the Robust04 collection.\n",
    "TWENTY_TRAIN = os.path.join(DATA_DIR, \"20news-bydate/20news-bydate-train\")\n",
    "TWENTY_TEST = os.path.join(DATA_DIR, \"20news-bydate/20news-bydate-test\")"
   ]
  },
  {
   "cell_type": "code",
   "execution_count": null,
   "metadata": {},
   "outputs": [],
   "source": [
    "enc = 'latin-1'\n",
    "\n",
    "twenty_train = datasets.load_files(TWENTY_TRAIN, encoding=enc)\n",
    "twenty_test = datasets.load_files(TWENTY_TEST, encoding=enc)"
   ]
  },
  {
   "cell_type": "code",
   "execution_count": 5,
   "metadata": {},
   "outputs": [
    {
     "name": "stdout",
     "output_type": "stream",
     "text": [
      "Dataset size:\n",
      "\n",
      "Train set: 11314\n",
      "Test set: 7532\n",
      "Total: 18846\n"
     ]
    }
   ],
   "source": [
    "print(\"Dataset size:\\n\")\n",
    "print(\"Train set: {}\".format(len(twenty_train.filenames)))\n",
    "print(\"Test set: {}\".format(len(twenty_test.filenames)))\n",
    "print(\"Total: {}\".format(len(twenty_train.filenames) + len(twenty_test.filenames)))"
   ]
  },
  {
   "cell_type": "code",
   "execution_count": 6,
   "metadata": {},
   "outputs": [],
   "source": [
    "# Save labels to file for later need.\n",
    "np.save('20news/twenty_test_labels', twenty_test.target)\n",
    "np.save('20news/twenty_train_labels', twenty_train.target)"
   ]
  },
  {
   "cell_type": "markdown",
   "metadata": {},
   "source": [
    "### Pre-processing\n",
    "\n",
    "Either pre-process data from scratch **or** import them already tokenized (see section below)."
   ]
  },
  {
   "cell_type": "code",
   "execution_count": 17,
   "metadata": {},
   "outputs": [
    {
     "name": "stdout",
     "output_type": "stream",
     "text": [
      "Tokenization of train set OK; original data removed.\n",
      "Tokenization of test set OK; original data removed.\n"
     ]
    }
   ],
   "source": [
    "tok_twenty_train = [tokenize_text(sent) for sent in twenty_train.data]  # Tokenized train data\n",
    "tok_twenty_test = [tokenize_text(sent) for sent in twenty_test.data]    # Tokenized test data\n",
    "\n",
    "# If everything works, delete the original ROB04_data to save RAM.\n",
    "if (len(tok_twenty_train) == len(twenty_train.data)):\n",
    "    print(\"Tokenization of train set OK; original data removed.\")\n",
    "    del twenty_train\n",
    "    \n",
    "if (len(tok_twenty_test) == len(twenty_test.data)):\n",
    "    print(\"Tokenization of test set OK; original data removed.\")\n",
    "    del twenty_test"
   ]
  },
  {
   "cell_type": "code",
   "execution_count": 18,
   "metadata": {},
   "outputs": [],
   "source": [
    "# Save the tokenized datasets to a file (tokenization takes time).\n",
    "\n",
    "with open(\"20news/tok_twenty_train.csv\", mode=\"w\", newline=\"\") as f:\n",
    "    writer = csv.writer(f)\n",
    "    writer.writerows(tok_twenty_train)\n",
    "    \n",
    "with open(\"20news/tok_twenty_test.csv\", mode=\"w\", newline=\"\") as f:\n",
    "    writer = csv.writer(f)\n",
    "    writer.writerows(tok_twenty_test)"
   ]
  },
  {
   "cell_type": "code",
   "execution_count": 150,
   "metadata": {},
   "outputs": [],
   "source": [
    "# Read tokenized train and test sets.\n",
    "\n",
    "tok_twenty_train = []  # List to store train set\n",
    "tok_twenty_test = []   # List to store test set\n",
    "\n",
    "with open('20news/tok_twenty_train.csv') as csvfile:\n",
    "    read = csv.reader(csvfile, delimiter = ',')\n",
    "    for row in read:\n",
    "        tok_twenty_train.append(row)\n",
    "        \n",
    "with open('20news/tok_twenty_test.csv') as csvfile:\n",
    "    read = csv.reader(csvfile, delimiter = ',')\n",
    "    for row in read:\n",
    "        tok_twenty_test.append(row)"
   ]
  },
  {
   "cell_type": "markdown",
   "metadata": {},
   "source": [
    "## Import pre-processed data and labels"
   ]
  },
  {
   "cell_type": "code",
   "execution_count": 2,
   "metadata": {},
   "outputs": [],
   "source": [
    "# Read tokenized set and IDs.\n",
    "\n",
    "tok_twenty_tot = []  # List to store total set\n",
    "\n",
    "with open('../../clustering/20news/tok_twenty_tot.csv') as csvfile:\n",
    "    read = csv.reader(csvfile, delimiter = ',')\n",
    "    for row in read:\n",
    "        tok_twenty_tot.append(row)\n",
    "        \n",
    "twenty_labels_tot = np.load('../../clustering/20news/twenty_labels_tot.npy')"
   ]
  },
  {
   "cell_type": "markdown",
   "metadata": {},
   "source": [
    "#### Fixed parameters"
   ]
  },
  {
   "cell_type": "code",
   "execution_count": 3,
   "metadata": {},
   "outputs": [],
   "source": [
    "n_top = 50     # Number of topics for LSI and LDA.\n",
    "               # Vector dimension for cBow and PV.\n",
    "mix_comp = 15  # Mixture components.\n",
    "K = 20         # Number of clusters.\n",
    "n_feat = 5000  # Number of features.\n",
    "\n",
    "n_top_high = 100  # For computations with 100-dim. feat. vectors.\n",
    "n_top_low = 20    # For computations with 20-dim. feat. vectors."
   ]
  },
  {
   "cell_type": "markdown",
   "metadata": {},
   "source": [
    "## 1. TF-IDF"
   ]
  },
  {
   "cell_type": "markdown",
   "metadata": {},
   "source": [
    "Repeat clustering 10 times"
   ]
  },
  {
   "cell_type": "code",
   "execution_count": null,
   "metadata": {},
   "outputs": [],
   "source": [
    "### Try several clustering runs and store results.\n",
    "\n",
    "# Convert a collection of text documents into a matrix of token counts.\n",
    "count_vectorizer_TFIDF = CountVectorizer(tokenizer=identity_tokenizer, \n",
    "                                         lowercase=False, max_features=n_feat)\n",
    "\n",
    "# Matrix of shape len(data) x #words.\n",
    "twenty_features_TFIDF = count_vectorizer_TFIDF.fit_transform(tok_twenty_tot)\n",
    "\n",
    "ARIs = [[], []]    # Store ARI values: random, k-means++ init.\n",
    "NMIs = [[], []]    # Store NMI values: random, k-means++ init.\n",
    "\n",
    "init_methods = ['random', 'k-means++']\n",
    "\n",
    "for j, ini in enumerate(init_methods):\n",
    "    print(\"Processing init = {}.\".format(ini))\n",
    "    for i in range(10):\n",
    "        print(\"Processing i = {}.\".format(i))\n",
    "\n",
    "        # Initialize the clustering alg.\n",
    "        km_TFIDF = KMeans(n_clusters=K, n_init=10, init=ini, max_iter=200)\n",
    "        km_TFIDF.fit(twenty_features_TFIDF)\n",
    "    \n",
    "        ARI, NMI = evaluate_cluster(km_TFIDF)\n",
    "    \n",
    "        print(\"Iteration number: {}\".format(km_TFIDF.n_iter_))\n",
    "        print(\"Clustering performance for TF-IDF:\\nARI: {0:.3f}\\nNMI: {1:.3f}\".format(ARI*100, NMI*100))\n",
    "   \n",
    "        ARIs[j].append(ARI)\n",
    "        NMIs[j].append(NMI)\n",
    "        \n",
    "df_TFIDF = pd.DataFrame(np.multiply(list(zip(ARIs[0], NMIs[0], ARIs[1], NMIs[1])), 100), \n",
    "                        columns =['ARI_random', 'NMI_random', 'ARI_kmeans', 'NMI_kmeans'])\n",
    "\n",
    "df_TFIDF.round(3).to_csv('results/TFIDF_clust.csv', header=True, index=False)"
   ]
  },
  {
   "cell_type": "markdown",
   "metadata": {},
   "source": [
    "## Generate dictionary and corpus"
   ]
  },
  {
   "cell_type": "code",
   "execution_count": 4,
   "metadata": {},
   "outputs": [],
   "source": [
    "# Create a Gensim dictionary and corpus.\n",
    "dct = corpora.Dictionary(tok_twenty_tot)\n",
    "# Gensim uses bag of wards to represent in this form.\n",
    "corpus_twenty = [dct.doc2bow(sent) for sent in tok_twenty_tot]"
   ]
  },
  {
   "cell_type": "markdown",
   "metadata": {},
   "source": [
    "## 2. LSI"
   ]
  },
  {
   "cell_type": "code",
   "execution_count": 5,
   "metadata": {},
   "outputs": [
    {
     "name": "stdout",
     "output_type": "stream",
     "text": [
      "Processing init = random.\n",
      "Processing i = 0.\n"
     ]
    },
    {
     "name": "stderr",
     "output_type": "stream",
     "text": [
      "/home/lpapariello/anaconda3/envs/ML/lib/python3.6/site-packages/sklearn/metrics/cluster/supervised.py:859: FutureWarning: The behavior of NMI will change in version 0.22. To match the behavior of 'v_measure_score', NMI will use average_method='arithmetic' by default.\n",
      "  FutureWarning)\n"
     ]
    },
    {
     "name": "stdout",
     "output_type": "stream",
     "text": [
      "Iteration number: 49\n",
      "Clustering performance for LSI:\n",
      "ARI: 0.548\n",
      "NMI: 6.163\n",
      "Processing i = 1.\n"
     ]
    },
    {
     "name": "stderr",
     "output_type": "stream",
     "text": [
      "/home/lpapariello/anaconda3/envs/ML/lib/python3.6/site-packages/sklearn/metrics/cluster/supervised.py:859: FutureWarning: The behavior of NMI will change in version 0.22. To match the behavior of 'v_measure_score', NMI will use average_method='arithmetic' by default.\n",
      "  FutureWarning)\n"
     ]
    },
    {
     "name": "stdout",
     "output_type": "stream",
     "text": [
      "Iteration number: 58\n",
      "Clustering performance for LSI:\n",
      "ARI: 0.729\n",
      "NMI: 6.492\n",
      "Processing i = 2.\n"
     ]
    },
    {
     "name": "stderr",
     "output_type": "stream",
     "text": [
      "/home/lpapariello/anaconda3/envs/ML/lib/python3.6/site-packages/sklearn/metrics/cluster/supervised.py:859: FutureWarning: The behavior of NMI will change in version 0.22. To match the behavior of 'v_measure_score', NMI will use average_method='arithmetic' by default.\n",
      "  FutureWarning)\n"
     ]
    },
    {
     "name": "stdout",
     "output_type": "stream",
     "text": [
      "Iteration number: 54\n",
      "Clustering performance for LSI:\n",
      "ARI: 0.704\n",
      "NMI: 9.767\n",
      "Processing i = 3.\n"
     ]
    },
    {
     "name": "stderr",
     "output_type": "stream",
     "text": [
      "/home/lpapariello/anaconda3/envs/ML/lib/python3.6/site-packages/sklearn/metrics/cluster/supervised.py:859: FutureWarning: The behavior of NMI will change in version 0.22. To match the behavior of 'v_measure_score', NMI will use average_method='arithmetic' by default.\n",
      "  FutureWarning)\n"
     ]
    },
    {
     "name": "stdout",
     "output_type": "stream",
     "text": [
      "Iteration number: 50\n",
      "Clustering performance for LSI:\n",
      "ARI: 0.833\n",
      "NMI: 6.104\n",
      "Processing i = 4.\n"
     ]
    },
    {
     "name": "stderr",
     "output_type": "stream",
     "text": [
      "/home/lpapariello/anaconda3/envs/ML/lib/python3.6/site-packages/sklearn/metrics/cluster/supervised.py:859: FutureWarning: The behavior of NMI will change in version 0.22. To match the behavior of 'v_measure_score', NMI will use average_method='arithmetic' by default.\n",
      "  FutureWarning)\n"
     ]
    },
    {
     "name": "stdout",
     "output_type": "stream",
     "text": [
      "Iteration number: 83\n",
      "Clustering performance for LSI:\n",
      "ARI: 0.496\n",
      "NMI: 6.285\n",
      "Processing i = 5.\n"
     ]
    },
    {
     "name": "stderr",
     "output_type": "stream",
     "text": [
      "/home/lpapariello/anaconda3/envs/ML/lib/python3.6/site-packages/sklearn/metrics/cluster/supervised.py:859: FutureWarning: The behavior of NMI will change in version 0.22. To match the behavior of 'v_measure_score', NMI will use average_method='arithmetic' by default.\n",
      "  FutureWarning)\n"
     ]
    },
    {
     "name": "stdout",
     "output_type": "stream",
     "text": [
      "Iteration number: 51\n",
      "Clustering performance for LSI:\n",
      "ARI: 0.769\n",
      "NMI: 6.497\n",
      "Processing i = 6.\n"
     ]
    },
    {
     "name": "stderr",
     "output_type": "stream",
     "text": [
      "/home/lpapariello/anaconda3/envs/ML/lib/python3.6/site-packages/sklearn/metrics/cluster/supervised.py:859: FutureWarning: The behavior of NMI will change in version 0.22. To match the behavior of 'v_measure_score', NMI will use average_method='arithmetic' by default.\n",
      "  FutureWarning)\n"
     ]
    },
    {
     "name": "stdout",
     "output_type": "stream",
     "text": [
      "Iteration number: 74\n",
      "Clustering performance for LSI:\n",
      "ARI: 0.529\n",
      "NMI: 6.292\n",
      "Processing i = 7.\n"
     ]
    },
    {
     "name": "stderr",
     "output_type": "stream",
     "text": [
      "/home/lpapariello/anaconda3/envs/ML/lib/python3.6/site-packages/sklearn/metrics/cluster/supervised.py:859: FutureWarning: The behavior of NMI will change in version 0.22. To match the behavior of 'v_measure_score', NMI will use average_method='arithmetic' by default.\n",
      "  FutureWarning)\n"
     ]
    },
    {
     "name": "stdout",
     "output_type": "stream",
     "text": [
      "Iteration number: 70\n",
      "Clustering performance for LSI:\n",
      "ARI: 0.459\n",
      "NMI: 7.154\n",
      "Processing i = 8.\n"
     ]
    },
    {
     "name": "stderr",
     "output_type": "stream",
     "text": [
      "/home/lpapariello/anaconda3/envs/ML/lib/python3.6/site-packages/sklearn/cluster/k_means_.py:969: ConvergenceWarning: Number of distinct clusters (19) found smaller than n_clusters (20). Possibly due to duplicate points in X.\n",
      "  return_n_iter=True)\n",
      "/home/lpapariello/anaconda3/envs/ML/lib/python3.6/site-packages/sklearn/metrics/cluster/supervised.py:859: FutureWarning: The behavior of NMI will change in version 0.22. To match the behavior of 'v_measure_score', NMI will use average_method='arithmetic' by default.\n",
      "  FutureWarning)\n"
     ]
    },
    {
     "name": "stdout",
     "output_type": "stream",
     "text": [
      "Iteration number: 56\n",
      "Clustering performance for LSI:\n",
      "ARI: 0.464\n",
      "NMI: 5.967\n",
      "Processing i = 9.\n"
     ]
    },
    {
     "name": "stderr",
     "output_type": "stream",
     "text": [
      "/home/lpapariello/anaconda3/envs/ML/lib/python3.6/site-packages/sklearn/metrics/cluster/supervised.py:859: FutureWarning: The behavior of NMI will change in version 0.22. To match the behavior of 'v_measure_score', NMI will use average_method='arithmetic' by default.\n",
      "  FutureWarning)\n"
     ]
    },
    {
     "name": "stdout",
     "output_type": "stream",
     "text": [
      "Iteration number: 62\n",
      "Clustering performance for LSI:\n",
      "ARI: 0.543\n",
      "NMI: 6.419\n",
      "Processing init = k-means++.\n",
      "Processing i = 0.\n"
     ]
    },
    {
     "name": "stderr",
     "output_type": "stream",
     "text": [
      "/home/lpapariello/anaconda3/envs/ML/lib/python3.6/site-packages/sklearn/metrics/cluster/supervised.py:859: FutureWarning: The behavior of NMI will change in version 0.22. To match the behavior of 'v_measure_score', NMI will use average_method='arithmetic' by default.\n",
      "  FutureWarning)\n"
     ]
    },
    {
     "name": "stdout",
     "output_type": "stream",
     "text": [
      "Iteration number: 34\n",
      "Clustering performance for LSI:\n",
      "ARI: 0.002\n",
      "NMI: 2.027\n",
      "Processing i = 1.\n"
     ]
    },
    {
     "name": "stderr",
     "output_type": "stream",
     "text": [
      "/home/lpapariello/anaconda3/envs/ML/lib/python3.6/site-packages/sklearn/metrics/cluster/supervised.py:859: FutureWarning: The behavior of NMI will change in version 0.22. To match the behavior of 'v_measure_score', NMI will use average_method='arithmetic' by default.\n",
      "  FutureWarning)\n"
     ]
    },
    {
     "name": "stdout",
     "output_type": "stream",
     "text": [
      "Iteration number: 14\n",
      "Clustering performance for LSI:\n",
      "ARI: 0.001\n",
      "NMI: 1.793\n",
      "Processing i = 2.\n"
     ]
    },
    {
     "name": "stderr",
     "output_type": "stream",
     "text": [
      "/home/lpapariello/anaconda3/envs/ML/lib/python3.6/site-packages/sklearn/metrics/cluster/supervised.py:859: FutureWarning: The behavior of NMI will change in version 0.22. To match the behavior of 'v_measure_score', NMI will use average_method='arithmetic' by default.\n",
      "  FutureWarning)\n"
     ]
    },
    {
     "name": "stdout",
     "output_type": "stream",
     "text": [
      "Iteration number: 8\n",
      "Clustering performance for LSI:\n",
      "ARI: 0.049\n",
      "NMI: 2.947\n",
      "Processing i = 3.\n"
     ]
    },
    {
     "name": "stderr",
     "output_type": "stream",
     "text": [
      "/home/lpapariello/anaconda3/envs/ML/lib/python3.6/site-packages/sklearn/metrics/cluster/supervised.py:859: FutureWarning: The behavior of NMI will change in version 0.22. To match the behavior of 'v_measure_score', NMI will use average_method='arithmetic' by default.\n",
      "  FutureWarning)\n"
     ]
    },
    {
     "name": "stdout",
     "output_type": "stream",
     "text": [
      "Iteration number: 11\n",
      "Clustering performance for LSI:\n",
      "ARI: 0.001\n",
      "NMI: 1.737\n",
      "Processing i = 4.\n"
     ]
    },
    {
     "name": "stderr",
     "output_type": "stream",
     "text": [
      "/home/lpapariello/anaconda3/envs/ML/lib/python3.6/site-packages/sklearn/metrics/cluster/supervised.py:859: FutureWarning: The behavior of NMI will change in version 0.22. To match the behavior of 'v_measure_score', NMI will use average_method='arithmetic' by default.\n",
      "  FutureWarning)\n"
     ]
    },
    {
     "name": "stdout",
     "output_type": "stream",
     "text": [
      "Iteration number: 19\n",
      "Clustering performance for LSI:\n",
      "ARI: 0.003\n",
      "NMI: 1.983\n",
      "Processing i = 5.\n"
     ]
    },
    {
     "name": "stderr",
     "output_type": "stream",
     "text": [
      "/home/lpapariello/anaconda3/envs/ML/lib/python3.6/site-packages/sklearn/metrics/cluster/supervised.py:859: FutureWarning: The behavior of NMI will change in version 0.22. To match the behavior of 'v_measure_score', NMI will use average_method='arithmetic' by default.\n",
      "  FutureWarning)\n"
     ]
    },
    {
     "name": "stdout",
     "output_type": "stream",
     "text": [
      "Iteration number: 17\n",
      "Clustering performance for LSI:\n",
      "ARI: 0.002\n",
      "NMI: 2.088\n",
      "Processing i = 6.\n"
     ]
    },
    {
     "name": "stderr",
     "output_type": "stream",
     "text": [
      "/home/lpapariello/anaconda3/envs/ML/lib/python3.6/site-packages/sklearn/metrics/cluster/supervised.py:859: FutureWarning: The behavior of NMI will change in version 0.22. To match the behavior of 'v_measure_score', NMI will use average_method='arithmetic' by default.\n",
      "  FutureWarning)\n"
     ]
    },
    {
     "name": "stdout",
     "output_type": "stream",
     "text": [
      "Iteration number: 14\n",
      "Clustering performance for LSI:\n",
      "ARI: 0.002\n",
      "NMI: 1.640\n",
      "Processing i = 7.\n"
     ]
    },
    {
     "name": "stderr",
     "output_type": "stream",
     "text": [
      "/home/lpapariello/anaconda3/envs/ML/lib/python3.6/site-packages/sklearn/metrics/cluster/supervised.py:859: FutureWarning: The behavior of NMI will change in version 0.22. To match the behavior of 'v_measure_score', NMI will use average_method='arithmetic' by default.\n",
      "  FutureWarning)\n"
     ]
    },
    {
     "name": "stdout",
     "output_type": "stream",
     "text": [
      "Iteration number: 14\n",
      "Clustering performance for LSI:\n",
      "ARI: 0.001\n",
      "NMI: 1.825\n",
      "Processing i = 8.\n"
     ]
    },
    {
     "name": "stderr",
     "output_type": "stream",
     "text": [
      "/home/lpapariello/anaconda3/envs/ML/lib/python3.6/site-packages/sklearn/metrics/cluster/supervised.py:859: FutureWarning: The behavior of NMI will change in version 0.22. To match the behavior of 'v_measure_score', NMI will use average_method='arithmetic' by default.\n",
      "  FutureWarning)\n"
     ]
    },
    {
     "name": "stdout",
     "output_type": "stream",
     "text": [
      "Iteration number: 25\n",
      "Clustering performance for LSI:\n",
      "ARI: 0.003\n",
      "NMI: 2.056\n",
      "Processing i = 9.\n",
      "Iteration number: 16\n",
      "Clustering performance for LSI:\n",
      "ARI: 0.002\n",
      "NMI: 1.712\n"
     ]
    },
    {
     "name": "stderr",
     "output_type": "stream",
     "text": [
      "/home/lpapariello/anaconda3/envs/ML/lib/python3.6/site-packages/sklearn/metrics/cluster/supervised.py:859: FutureWarning: The behavior of NMI will change in version 0.22. To match the behavior of 'v_measure_score', NMI will use average_method='arithmetic' by default.\n",
      "  FutureWarning)\n"
     ]
    }
   ],
   "source": [
    "# Run LSI model to get topic modelling.\n",
    "lsi_model_twenty = LsiModel(corpus=corpus_twenty, num_topics=n_top_high, id2word=dct)\n",
    "\n",
    "# Converting topics to feature vectors.\n",
    "# The probability distribution of the topics for \n",
    "# a specific review will be our feature vector.\n",
    "\n",
    "feat_vecs_twenty = matutils.corpus2dense(lsi_model_twenty[corpus_twenty], num_terms=n_top_high).T.tolist()\n",
    "\n",
    "### Try several clustering runs and store results.\n",
    "\n",
    "ARIs = [[], []]    # Store ARI values: random, k-means++ init.\n",
    "NMIs = [[], []]    # Store NMI values: random, k-means++ init.\n",
    "\n",
    "init_methods = ['random', 'k-means++']\n",
    "\n",
    "for j, ini in enumerate(init_methods):\n",
    "    print(\"Processing init = {}.\".format(ini))\n",
    "    for i in range(10):\n",
    "        print(\"Processing i = {}.\".format(i))\n",
    "\n",
    "        # Initialize the clustering alg.\n",
    "        km_LSI = KMeans(n_clusters=K, n_init=10, init=ini, max_iter=200)\n",
    "        km_LSI.fit(feat_vecs_twenty)\n",
    "    \n",
    "        ARI, NMI = evaluate_cluster(km_LSI, twenty_labels_tot)\n",
    "    \n",
    "        print(\"Iteration number: {}\".format(km_LSI.n_iter_))\n",
    "        print(\"Clustering performance for LSI:\\nARI: {0:.3f}\\nNMI: {1:.3f}\".format(ARI*100, NMI*100))\n",
    "   \n",
    "        ARIs[j].append(ARI)\n",
    "        NMIs[j].append(NMI)\n",
    "        \n",
    "df_LSI = pd.DataFrame(np.multiply(list(zip(ARIs[0], NMIs[0], ARIs[1], NMIs[1])), 100), \n",
    "                      columns =['ARI_random', 'NMI_random', 'ARI_kmeans', 'NMI_kmeans'])\n",
    "\n",
    "df_LSI.round(3).to_csv('results/LSI_clust_100topics.csv', header=True, index=False)"
   ]
  },
  {
   "cell_type": "markdown",
   "metadata": {},
   "source": [
    "## 3. LDA"
   ]
  },
  {
   "cell_type": "code",
   "execution_count": 6,
   "metadata": {},
   "outputs": [
    {
     "name": "stdout",
     "output_type": "stream",
     "text": [
      "Processing init = random.\n",
      "Processing i = 0.\n"
     ]
    },
    {
     "name": "stderr",
     "output_type": "stream",
     "text": [
      "/home/lpapariello/anaconda3/envs/ML/lib/python3.6/site-packages/sklearn/metrics/cluster/supervised.py:859: FutureWarning: The behavior of NMI will change in version 0.22. To match the behavior of 'v_measure_score', NMI will use average_method='arithmetic' by default.\n",
      "  FutureWarning)\n"
     ]
    },
    {
     "name": "stdout",
     "output_type": "stream",
     "text": [
      "Iteration number: 27\n",
      "Clustering performance for LDA:\n",
      "ARI: 10.903\n",
      "NMI: 33.526\n",
      "Processing i = 1.\n"
     ]
    },
    {
     "name": "stderr",
     "output_type": "stream",
     "text": [
      "/home/lpapariello/anaconda3/envs/ML/lib/python3.6/site-packages/sklearn/metrics/cluster/supervised.py:859: FutureWarning: The behavior of NMI will change in version 0.22. To match the behavior of 'v_measure_score', NMI will use average_method='arithmetic' by default.\n",
      "  FutureWarning)\n"
     ]
    },
    {
     "name": "stdout",
     "output_type": "stream",
     "text": [
      "Iteration number: 63\n",
      "Clustering performance for LDA:\n",
      "ARI: 11.633\n",
      "NMI: 33.969\n",
      "Processing i = 2.\n"
     ]
    },
    {
     "name": "stderr",
     "output_type": "stream",
     "text": [
      "/home/lpapariello/anaconda3/envs/ML/lib/python3.6/site-packages/sklearn/metrics/cluster/supervised.py:859: FutureWarning: The behavior of NMI will change in version 0.22. To match the behavior of 'v_measure_score', NMI will use average_method='arithmetic' by default.\n",
      "  FutureWarning)\n"
     ]
    },
    {
     "name": "stdout",
     "output_type": "stream",
     "text": [
      "Iteration number: 17\n",
      "Clustering performance for LDA:\n",
      "ARI: 11.294\n",
      "NMI: 34.406\n",
      "Processing i = 3.\n"
     ]
    },
    {
     "name": "stderr",
     "output_type": "stream",
     "text": [
      "/home/lpapariello/anaconda3/envs/ML/lib/python3.6/site-packages/sklearn/metrics/cluster/supervised.py:859: FutureWarning: The behavior of NMI will change in version 0.22. To match the behavior of 'v_measure_score', NMI will use average_method='arithmetic' by default.\n",
      "  FutureWarning)\n"
     ]
    },
    {
     "name": "stdout",
     "output_type": "stream",
     "text": [
      "Iteration number: 81\n",
      "Clustering performance for LDA:\n",
      "ARI: 10.350\n",
      "NMI: 33.444\n",
      "Processing i = 4.\n"
     ]
    },
    {
     "name": "stderr",
     "output_type": "stream",
     "text": [
      "/home/lpapariello/anaconda3/envs/ML/lib/python3.6/site-packages/sklearn/metrics/cluster/supervised.py:859: FutureWarning: The behavior of NMI will change in version 0.22. To match the behavior of 'v_measure_score', NMI will use average_method='arithmetic' by default.\n",
      "  FutureWarning)\n"
     ]
    },
    {
     "name": "stdout",
     "output_type": "stream",
     "text": [
      "Iteration number: 24\n",
      "Clustering performance for LDA:\n",
      "ARI: 11.167\n",
      "NMI: 34.298\n",
      "Processing i = 5.\n"
     ]
    },
    {
     "name": "stderr",
     "output_type": "stream",
     "text": [
      "/home/lpapariello/anaconda3/envs/ML/lib/python3.6/site-packages/sklearn/metrics/cluster/supervised.py:859: FutureWarning: The behavior of NMI will change in version 0.22. To match the behavior of 'v_measure_score', NMI will use average_method='arithmetic' by default.\n",
      "  FutureWarning)\n"
     ]
    },
    {
     "name": "stdout",
     "output_type": "stream",
     "text": [
      "Iteration number: 40\n",
      "Clustering performance for LDA:\n",
      "ARI: 10.975\n",
      "NMI: 33.396\n",
      "Processing i = 6.\n"
     ]
    },
    {
     "name": "stderr",
     "output_type": "stream",
     "text": [
      "/home/lpapariello/anaconda3/envs/ML/lib/python3.6/site-packages/sklearn/metrics/cluster/supervised.py:859: FutureWarning: The behavior of NMI will change in version 0.22. To match the behavior of 'v_measure_score', NMI will use average_method='arithmetic' by default.\n",
      "  FutureWarning)\n"
     ]
    },
    {
     "name": "stdout",
     "output_type": "stream",
     "text": [
      "Iteration number: 18\n",
      "Clustering performance for LDA:\n",
      "ARI: 11.805\n",
      "NMI: 35.356\n",
      "Processing i = 7.\n"
     ]
    },
    {
     "name": "stderr",
     "output_type": "stream",
     "text": [
      "/home/lpapariello/anaconda3/envs/ML/lib/python3.6/site-packages/sklearn/metrics/cluster/supervised.py:859: FutureWarning: The behavior of NMI will change in version 0.22. To match the behavior of 'v_measure_score', NMI will use average_method='arithmetic' by default.\n",
      "  FutureWarning)\n"
     ]
    },
    {
     "name": "stdout",
     "output_type": "stream",
     "text": [
      "Iteration number: 48\n",
      "Clustering performance for LDA:\n",
      "ARI: 12.360\n",
      "NMI: 34.354\n",
      "Processing i = 8.\n"
     ]
    },
    {
     "name": "stderr",
     "output_type": "stream",
     "text": [
      "/home/lpapariello/anaconda3/envs/ML/lib/python3.6/site-packages/sklearn/metrics/cluster/supervised.py:859: FutureWarning: The behavior of NMI will change in version 0.22. To match the behavior of 'v_measure_score', NMI will use average_method='arithmetic' by default.\n",
      "  FutureWarning)\n"
     ]
    },
    {
     "name": "stdout",
     "output_type": "stream",
     "text": [
      "Iteration number: 74\n",
      "Clustering performance for LDA:\n",
      "ARI: 11.493\n",
      "NMI: 33.799\n",
      "Processing i = 9.\n"
     ]
    },
    {
     "name": "stderr",
     "output_type": "stream",
     "text": [
      "/home/lpapariello/anaconda3/envs/ML/lib/python3.6/site-packages/sklearn/metrics/cluster/supervised.py:859: FutureWarning: The behavior of NMI will change in version 0.22. To match the behavior of 'v_measure_score', NMI will use average_method='arithmetic' by default.\n",
      "  FutureWarning)\n"
     ]
    },
    {
     "name": "stdout",
     "output_type": "stream",
     "text": [
      "Iteration number: 30\n",
      "Clustering performance for LDA:\n",
      "ARI: 11.096\n",
      "NMI: 32.784\n",
      "Processing init = k-means++.\n",
      "Processing i = 0.\n"
     ]
    },
    {
     "name": "stderr",
     "output_type": "stream",
     "text": [
      "/home/lpapariello/anaconda3/envs/ML/lib/python3.6/site-packages/sklearn/metrics/cluster/supervised.py:859: FutureWarning: The behavior of NMI will change in version 0.22. To match the behavior of 'v_measure_score', NMI will use average_method='arithmetic' by default.\n",
      "  FutureWarning)\n"
     ]
    },
    {
     "name": "stdout",
     "output_type": "stream",
     "text": [
      "Iteration number: 21\n",
      "Clustering performance for LDA:\n",
      "ARI: 11.989\n",
      "NMI: 34.550\n",
      "Processing i = 1.\n"
     ]
    },
    {
     "name": "stderr",
     "output_type": "stream",
     "text": [
      "/home/lpapariello/anaconda3/envs/ML/lib/python3.6/site-packages/sklearn/metrics/cluster/supervised.py:859: FutureWarning: The behavior of NMI will change in version 0.22. To match the behavior of 'v_measure_score', NMI will use average_method='arithmetic' by default.\n",
      "  FutureWarning)\n"
     ]
    },
    {
     "name": "stdout",
     "output_type": "stream",
     "text": [
      "Iteration number: 22\n",
      "Clustering performance for LDA:\n",
      "ARI: 10.800\n",
      "NMI: 33.163\n",
      "Processing i = 2.\n"
     ]
    },
    {
     "name": "stderr",
     "output_type": "stream",
     "text": [
      "/home/lpapariello/anaconda3/envs/ML/lib/python3.6/site-packages/sklearn/metrics/cluster/supervised.py:859: FutureWarning: The behavior of NMI will change in version 0.22. To match the behavior of 'v_measure_score', NMI will use average_method='arithmetic' by default.\n",
      "  FutureWarning)\n"
     ]
    },
    {
     "name": "stdout",
     "output_type": "stream",
     "text": [
      "Iteration number: 29\n",
      "Clustering performance for LDA:\n",
      "ARI: 10.223\n",
      "NMI: 33.574\n",
      "Processing i = 3.\n"
     ]
    },
    {
     "name": "stderr",
     "output_type": "stream",
     "text": [
      "/home/lpapariello/anaconda3/envs/ML/lib/python3.6/site-packages/sklearn/metrics/cluster/supervised.py:859: FutureWarning: The behavior of NMI will change in version 0.22. To match the behavior of 'v_measure_score', NMI will use average_method='arithmetic' by default.\n",
      "  FutureWarning)\n"
     ]
    },
    {
     "name": "stdout",
     "output_type": "stream",
     "text": [
      "Iteration number: 35\n",
      "Clustering performance for LDA:\n",
      "ARI: 10.633\n",
      "NMI: 32.057\n",
      "Processing i = 4.\n"
     ]
    },
    {
     "name": "stderr",
     "output_type": "stream",
     "text": [
      "/home/lpapariello/anaconda3/envs/ML/lib/python3.6/site-packages/sklearn/metrics/cluster/supervised.py:859: FutureWarning: The behavior of NMI will change in version 0.22. To match the behavior of 'v_measure_score', NMI will use average_method='arithmetic' by default.\n",
      "  FutureWarning)\n"
     ]
    },
    {
     "name": "stdout",
     "output_type": "stream",
     "text": [
      "Iteration number: 42\n",
      "Clustering performance for LDA:\n",
      "ARI: 11.602\n",
      "NMI: 35.411\n",
      "Processing i = 5.\n"
     ]
    },
    {
     "name": "stderr",
     "output_type": "stream",
     "text": [
      "/home/lpapariello/anaconda3/envs/ML/lib/python3.6/site-packages/sklearn/metrics/cluster/supervised.py:859: FutureWarning: The behavior of NMI will change in version 0.22. To match the behavior of 'v_measure_score', NMI will use average_method='arithmetic' by default.\n",
      "  FutureWarning)\n"
     ]
    },
    {
     "name": "stdout",
     "output_type": "stream",
     "text": [
      "Iteration number: 34\n",
      "Clustering performance for LDA:\n",
      "ARI: 11.200\n",
      "NMI: 34.347\n",
      "Processing i = 6.\n"
     ]
    },
    {
     "name": "stderr",
     "output_type": "stream",
     "text": [
      "/home/lpapariello/anaconda3/envs/ML/lib/python3.6/site-packages/sklearn/metrics/cluster/supervised.py:859: FutureWarning: The behavior of NMI will change in version 0.22. To match the behavior of 'v_measure_score', NMI will use average_method='arithmetic' by default.\n",
      "  FutureWarning)\n"
     ]
    },
    {
     "name": "stdout",
     "output_type": "stream",
     "text": [
      "Iteration number: 29\n",
      "Clustering performance for LDA:\n",
      "ARI: 10.638\n",
      "NMI: 33.153\n",
      "Processing i = 7.\n"
     ]
    },
    {
     "name": "stderr",
     "output_type": "stream",
     "text": [
      "/home/lpapariello/anaconda3/envs/ML/lib/python3.6/site-packages/sklearn/metrics/cluster/supervised.py:859: FutureWarning: The behavior of NMI will change in version 0.22. To match the behavior of 'v_measure_score', NMI will use average_method='arithmetic' by default.\n",
      "  FutureWarning)\n"
     ]
    },
    {
     "name": "stdout",
     "output_type": "stream",
     "text": [
      "Iteration number: 52\n",
      "Clustering performance for LDA:\n",
      "ARI: 11.199\n",
      "NMI: 34.079\n",
      "Processing i = 8.\n"
     ]
    },
    {
     "name": "stderr",
     "output_type": "stream",
     "text": [
      "/home/lpapariello/anaconda3/envs/ML/lib/python3.6/site-packages/sklearn/metrics/cluster/supervised.py:859: FutureWarning: The behavior of NMI will change in version 0.22. To match the behavior of 'v_measure_score', NMI will use average_method='arithmetic' by default.\n",
      "  FutureWarning)\n"
     ]
    },
    {
     "name": "stdout",
     "output_type": "stream",
     "text": [
      "Iteration number: 28\n",
      "Clustering performance for LDA:\n",
      "ARI: 11.138\n",
      "NMI: 34.973\n",
      "Processing i = 9.\n",
      "Iteration number: 33\n",
      "Clustering performance for LDA:\n",
      "ARI: 11.184\n",
      "NMI: 33.776\n"
     ]
    },
    {
     "name": "stderr",
     "output_type": "stream",
     "text": [
      "/home/lpapariello/anaconda3/envs/ML/lib/python3.6/site-packages/sklearn/metrics/cluster/supervised.py:859: FutureWarning: The behavior of NMI will change in version 0.22. To match the behavior of 'v_measure_score', NMI will use average_method='arithmetic' by default.\n",
      "  FutureWarning)\n"
     ]
    }
   ],
   "source": [
    "# Run LDA model to get topic modelling.\n",
    "lda_model_twenty = LdaMulticore(corpus=corpus_twenty, num_topics=n_top_high, id2word=dct,\n",
    "                                passes=60, workers=6)\n",
    "\n",
    "# Save model\n",
    "# lda_model_twenty.save(\"models/LDA/LDA_clustering.model\")\n",
    "\n",
    "# Converting topics to feature vectors\n",
    "# The probability distribution of the topics for \n",
    "# a specific review will be our feature vector.\n",
    "\n",
    "feat_vecs_twenty = []\n",
    "\n",
    "for i in range(len(corpus_twenty)):\n",
    "    top_topics = lda_model_twenty.get_document_topics(corpus_twenty[i], minimum_probability=0.0)\n",
    "    topic_vec = [top_topics[i][1] for i in range(n_top_high)]\n",
    "    feat_vecs_twenty.append(topic_vec)\n",
    "\n",
    "### Try several clustering runs and store results.\n",
    "\n",
    "ARIs = [[], []]    # Store ARI values: random, k-means++ init.\n",
    "NMIs = [[], []]    # Store NMI values: random, k-means++ init.\n",
    "\n",
    "init_methods = ['random', 'k-means++']\n",
    "\n",
    "for j, ini in enumerate(init_methods):\n",
    "    print(\"Processing init = {}.\".format(ini))\n",
    "    for i in range(10):\n",
    "        print(\"Processing i = {}.\".format(i))\n",
    "\n",
    "        # Initialize the clustering alg.\n",
    "        km_LDA = KMeans(n_clusters=K, n_init=10, init=ini, max_iter=200)\n",
    "        km_LDA.fit(feat_vecs_twenty)\n",
    "    \n",
    "        ARI, NMI = evaluate_cluster(km_LDA, twenty_labels_tot)\n",
    "    \n",
    "        print(\"Iteration number: {}\".format(km_LDA.n_iter_))\n",
    "        print(\"Clustering performance for LDA:\\nARI: {0:.3f}\\nNMI: {1:.3f}\".format(ARI*100, NMI*100))\n",
    "   \n",
    "        ARIs[j].append(ARI)\n",
    "        NMIs[j].append(NMI)\n",
    "        \n",
    "df_LDA = pd.DataFrame(np.multiply(list(zip(ARIs[0], NMIs[0], ARIs[1], NMIs[1])), 100), \n",
    "                      columns =['ARI_random', 'NMI_random', 'ARI_kmeans', 'NMI_kmeans'])\n",
    "\n",
    "df_LDA.round(3).to_csv('results/LDA_clust_100topics.csv', header=True, index=False)"
   ]
  },
  {
   "cell_type": "markdown",
   "metadata": {},
   "source": [
    "## 4. cBow"
   ]
  },
  {
   "cell_type": "code",
   "execution_count": 7,
   "metadata": {},
   "outputs": [
    {
     "name": "stderr",
     "output_type": "stream",
     "text": [
      "/home/lpapariello/anaconda3/envs/ML/lib/python3.6/site-packages/smart_open/smart_open_lib.py:398: UserWarning: This function is deprecated, use smart_open.open instead. See the migration notes for details: https://github.com/RaRe-Technologies/smart_open/blob/master/README.rst#migrating-to-the-new-open-function\n",
      "  'See the migration notes for details: %s' % _MIGRATION_NOTES_URL\n"
     ]
    },
    {
     "name": "stdout",
     "output_type": "stream",
     "text": [
      "Processing init = random.\n",
      "Processing i = 0.\n"
     ]
    },
    {
     "name": "stderr",
     "output_type": "stream",
     "text": [
      "/home/lpapariello/anaconda3/envs/ML/lib/python3.6/site-packages/sklearn/metrics/cluster/supervised.py:859: FutureWarning: The behavior of NMI will change in version 0.22. To match the behavior of 'v_measure_score', NMI will use average_method='arithmetic' by default.\n",
      "  FutureWarning)\n"
     ]
    },
    {
     "name": "stdout",
     "output_type": "stream",
     "text": [
      "Iteration number: 82\n",
      "Clustering performance for cBow:\n",
      "ARI: 32.105\n",
      "NMI: 51.542\n",
      "Processing i = 1.\n"
     ]
    },
    {
     "name": "stderr",
     "output_type": "stream",
     "text": [
      "/home/lpapariello/anaconda3/envs/ML/lib/python3.6/site-packages/sklearn/metrics/cluster/supervised.py:859: FutureWarning: The behavior of NMI will change in version 0.22. To match the behavior of 'v_measure_score', NMI will use average_method='arithmetic' by default.\n",
      "  FutureWarning)\n"
     ]
    },
    {
     "name": "stdout",
     "output_type": "stream",
     "text": [
      "Iteration number: 64\n",
      "Clustering performance for cBow:\n",
      "ARI: 31.621\n",
      "NMI: 51.341\n",
      "Processing i = 2.\n"
     ]
    },
    {
     "name": "stderr",
     "output_type": "stream",
     "text": [
      "/home/lpapariello/anaconda3/envs/ML/lib/python3.6/site-packages/sklearn/metrics/cluster/supervised.py:859: FutureWarning: The behavior of NMI will change in version 0.22. To match the behavior of 'v_measure_score', NMI will use average_method='arithmetic' by default.\n",
      "  FutureWarning)\n"
     ]
    },
    {
     "name": "stdout",
     "output_type": "stream",
     "text": [
      "Iteration number: 68\n",
      "Clustering performance for cBow:\n",
      "ARI: 31.448\n",
      "NMI: 50.895\n",
      "Processing i = 3.\n"
     ]
    },
    {
     "name": "stderr",
     "output_type": "stream",
     "text": [
      "/home/lpapariello/anaconda3/envs/ML/lib/python3.6/site-packages/sklearn/metrics/cluster/supervised.py:859: FutureWarning: The behavior of NMI will change in version 0.22. To match the behavior of 'v_measure_score', NMI will use average_method='arithmetic' by default.\n",
      "  FutureWarning)\n"
     ]
    },
    {
     "name": "stdout",
     "output_type": "stream",
     "text": [
      "Iteration number: 68\n",
      "Clustering performance for cBow:\n",
      "ARI: 32.515\n",
      "NMI: 51.609\n",
      "Processing i = 4.\n"
     ]
    },
    {
     "name": "stderr",
     "output_type": "stream",
     "text": [
      "/home/lpapariello/anaconda3/envs/ML/lib/python3.6/site-packages/sklearn/metrics/cluster/supervised.py:859: FutureWarning: The behavior of NMI will change in version 0.22. To match the behavior of 'v_measure_score', NMI will use average_method='arithmetic' by default.\n",
      "  FutureWarning)\n"
     ]
    },
    {
     "name": "stdout",
     "output_type": "stream",
     "text": [
      "Iteration number: 71\n",
      "Clustering performance for cBow:\n",
      "ARI: 33.288\n",
      "NMI: 51.995\n",
      "Processing i = 5.\n"
     ]
    },
    {
     "name": "stderr",
     "output_type": "stream",
     "text": [
      "/home/lpapariello/anaconda3/envs/ML/lib/python3.6/site-packages/sklearn/metrics/cluster/supervised.py:859: FutureWarning: The behavior of NMI will change in version 0.22. To match the behavior of 'v_measure_score', NMI will use average_method='arithmetic' by default.\n",
      "  FutureWarning)\n"
     ]
    },
    {
     "name": "stdout",
     "output_type": "stream",
     "text": [
      "Iteration number: 67\n",
      "Clustering performance for cBow:\n",
      "ARI: 31.525\n",
      "NMI: 51.080\n",
      "Processing i = 6.\n"
     ]
    },
    {
     "name": "stderr",
     "output_type": "stream",
     "text": [
      "/home/lpapariello/anaconda3/envs/ML/lib/python3.6/site-packages/sklearn/metrics/cluster/supervised.py:859: FutureWarning: The behavior of NMI will change in version 0.22. To match the behavior of 'v_measure_score', NMI will use average_method='arithmetic' by default.\n",
      "  FutureWarning)\n"
     ]
    },
    {
     "name": "stdout",
     "output_type": "stream",
     "text": [
      "Iteration number: 88\n",
      "Clustering performance for cBow:\n",
      "ARI: 32.543\n",
      "NMI: 51.560\n",
      "Processing i = 7.\n"
     ]
    },
    {
     "name": "stderr",
     "output_type": "stream",
     "text": [
      "/home/lpapariello/anaconda3/envs/ML/lib/python3.6/site-packages/sklearn/metrics/cluster/supervised.py:859: FutureWarning: The behavior of NMI will change in version 0.22. To match the behavior of 'v_measure_score', NMI will use average_method='arithmetic' by default.\n",
      "  FutureWarning)\n"
     ]
    },
    {
     "name": "stdout",
     "output_type": "stream",
     "text": [
      "Iteration number: 89\n",
      "Clustering performance for cBow:\n",
      "ARI: 33.113\n",
      "NMI: 52.090\n",
      "Processing i = 8.\n"
     ]
    },
    {
     "name": "stderr",
     "output_type": "stream",
     "text": [
      "/home/lpapariello/anaconda3/envs/ML/lib/python3.6/site-packages/sklearn/metrics/cluster/supervised.py:859: FutureWarning: The behavior of NMI will change in version 0.22. To match the behavior of 'v_measure_score', NMI will use average_method='arithmetic' by default.\n",
      "  FutureWarning)\n"
     ]
    },
    {
     "name": "stdout",
     "output_type": "stream",
     "text": [
      "Iteration number: 39\n",
      "Clustering performance for cBow:\n",
      "ARI: 33.025\n",
      "NMI: 52.047\n",
      "Processing i = 9.\n"
     ]
    },
    {
     "name": "stderr",
     "output_type": "stream",
     "text": [
      "/home/lpapariello/anaconda3/envs/ML/lib/python3.6/site-packages/sklearn/metrics/cluster/supervised.py:859: FutureWarning: The behavior of NMI will change in version 0.22. To match the behavior of 'v_measure_score', NMI will use average_method='arithmetic' by default.\n",
      "  FutureWarning)\n"
     ]
    },
    {
     "name": "stdout",
     "output_type": "stream",
     "text": [
      "Iteration number: 83\n",
      "Clustering performance for cBow:\n",
      "ARI: 31.461\n",
      "NMI: 51.185\n",
      "Processing init = k-means++.\n",
      "Processing i = 0.\n"
     ]
    },
    {
     "name": "stderr",
     "output_type": "stream",
     "text": [
      "/home/lpapariello/anaconda3/envs/ML/lib/python3.6/site-packages/sklearn/metrics/cluster/supervised.py:859: FutureWarning: The behavior of NMI will change in version 0.22. To match the behavior of 'v_measure_score', NMI will use average_method='arithmetic' by default.\n",
      "  FutureWarning)\n"
     ]
    },
    {
     "name": "stdout",
     "output_type": "stream",
     "text": [
      "Iteration number: 60\n",
      "Clustering performance for cBow:\n",
      "ARI: 31.834\n",
      "NMI: 51.249\n",
      "Processing i = 1.\n"
     ]
    },
    {
     "name": "stderr",
     "output_type": "stream",
     "text": [
      "/home/lpapariello/anaconda3/envs/ML/lib/python3.6/site-packages/sklearn/metrics/cluster/supervised.py:859: FutureWarning: The behavior of NMI will change in version 0.22. To match the behavior of 'v_measure_score', NMI will use average_method='arithmetic' by default.\n",
      "  FutureWarning)\n"
     ]
    },
    {
     "name": "stdout",
     "output_type": "stream",
     "text": [
      "Iteration number: 54\n",
      "Clustering performance for cBow:\n",
      "ARI: 32.751\n",
      "NMI: 51.586\n",
      "Processing i = 2.\n"
     ]
    },
    {
     "name": "stderr",
     "output_type": "stream",
     "text": [
      "/home/lpapariello/anaconda3/envs/ML/lib/python3.6/site-packages/sklearn/metrics/cluster/supervised.py:859: FutureWarning: The behavior of NMI will change in version 0.22. To match the behavior of 'v_measure_score', NMI will use average_method='arithmetic' by default.\n",
      "  FutureWarning)\n"
     ]
    },
    {
     "name": "stdout",
     "output_type": "stream",
     "text": [
      "Iteration number: 57\n",
      "Clustering performance for cBow:\n",
      "ARI: 33.098\n",
      "NMI: 52.085\n",
      "Processing i = 3.\n"
     ]
    },
    {
     "name": "stderr",
     "output_type": "stream",
     "text": [
      "/home/lpapariello/anaconda3/envs/ML/lib/python3.6/site-packages/sklearn/metrics/cluster/supervised.py:859: FutureWarning: The behavior of NMI will change in version 0.22. To match the behavior of 'v_measure_score', NMI will use average_method='arithmetic' by default.\n",
      "  FutureWarning)\n"
     ]
    },
    {
     "name": "stdout",
     "output_type": "stream",
     "text": [
      "Iteration number: 101\n",
      "Clustering performance for cBow:\n",
      "ARI: 32.214\n",
      "NMI: 51.471\n",
      "Processing i = 4.\n"
     ]
    },
    {
     "name": "stderr",
     "output_type": "stream",
     "text": [
      "/home/lpapariello/anaconda3/envs/ML/lib/python3.6/site-packages/sklearn/metrics/cluster/supervised.py:859: FutureWarning: The behavior of NMI will change in version 0.22. To match the behavior of 'v_measure_score', NMI will use average_method='arithmetic' by default.\n",
      "  FutureWarning)\n"
     ]
    },
    {
     "name": "stdout",
     "output_type": "stream",
     "text": [
      "Iteration number: 173\n",
      "Clustering performance for cBow:\n",
      "ARI: 30.867\n",
      "NMI: 50.725\n",
      "Processing i = 5.\n"
     ]
    },
    {
     "name": "stderr",
     "output_type": "stream",
     "text": [
      "/home/lpapariello/anaconda3/envs/ML/lib/python3.6/site-packages/sklearn/metrics/cluster/supervised.py:859: FutureWarning: The behavior of NMI will change in version 0.22. To match the behavior of 'v_measure_score', NMI will use average_method='arithmetic' by default.\n",
      "  FutureWarning)\n"
     ]
    },
    {
     "name": "stdout",
     "output_type": "stream",
     "text": [
      "Iteration number: 83\n",
      "Clustering performance for cBow:\n",
      "ARI: 32.727\n",
      "NMI: 51.563\n",
      "Processing i = 6.\n"
     ]
    },
    {
     "name": "stderr",
     "output_type": "stream",
     "text": [
      "/home/lpapariello/anaconda3/envs/ML/lib/python3.6/site-packages/sklearn/metrics/cluster/supervised.py:859: FutureWarning: The behavior of NMI will change in version 0.22. To match the behavior of 'v_measure_score', NMI will use average_method='arithmetic' by default.\n",
      "  FutureWarning)\n"
     ]
    },
    {
     "name": "stdout",
     "output_type": "stream",
     "text": [
      "Iteration number: 77\n",
      "Clustering performance for cBow:\n",
      "ARI: 33.062\n",
      "NMI: 51.833\n",
      "Processing i = 7.\n"
     ]
    },
    {
     "name": "stderr",
     "output_type": "stream",
     "text": [
      "/home/lpapariello/anaconda3/envs/ML/lib/python3.6/site-packages/sklearn/metrics/cluster/supervised.py:859: FutureWarning: The behavior of NMI will change in version 0.22. To match the behavior of 'v_measure_score', NMI will use average_method='arithmetic' by default.\n",
      "  FutureWarning)\n"
     ]
    },
    {
     "name": "stdout",
     "output_type": "stream",
     "text": [
      "Iteration number: 54\n",
      "Clustering performance for cBow:\n",
      "ARI: 33.164\n",
      "NMI: 52.033\n",
      "Processing i = 8.\n"
     ]
    },
    {
     "name": "stderr",
     "output_type": "stream",
     "text": [
      "/home/lpapariello/anaconda3/envs/ML/lib/python3.6/site-packages/sklearn/metrics/cluster/supervised.py:859: FutureWarning: The behavior of NMI will change in version 0.22. To match the behavior of 'v_measure_score', NMI will use average_method='arithmetic' by default.\n",
      "  FutureWarning)\n"
     ]
    },
    {
     "name": "stdout",
     "output_type": "stream",
     "text": [
      "Iteration number: 76\n",
      "Clustering performance for cBow:\n",
      "ARI: 31.888\n",
      "NMI: 51.445\n",
      "Processing i = 9.\n",
      "Iteration number: 75\n",
      "Clustering performance for cBow:\n",
      "ARI: 32.354\n",
      "NMI: 51.672\n"
     ]
    },
    {
     "name": "stderr",
     "output_type": "stream",
     "text": [
      "/home/lpapariello/anaconda3/envs/ML/lib/python3.6/site-packages/sklearn/metrics/cluster/supervised.py:859: FutureWarning: The behavior of NMI will change in version 0.22. To match the behavior of 'v_measure_score', NMI will use average_method='arithmetic' by default.\n",
      "  FutureWarning)\n"
     ]
    }
   ],
   "source": [
    "## Set-up w2v model.\n",
    "\n",
    "cores = 6      # Threads used for training\n",
    "\n",
    "# Initialize model.\n",
    "w2v_model_twenty = Word2Vec(size=n_top_high, window=5, min_count=1, workers=cores)\n",
    "\n",
    "# Build the vocabulary.\n",
    "w2v_model_twenty.build_vocab(tok_twenty_tot)\n",
    "\n",
    "# Train model.\n",
    "w2v_model_twenty.train(tok_twenty_tot, total_examples=w2v_model_twenty.corpus_count, epochs=60)\n",
    "\n",
    "# Save model.\n",
    "w2v_model_twenty.save(\"models/cBow/cBow_clustering_100topics.model\")\n",
    "\n",
    "w2v_model_twenty.init_sims(replace=True)\n",
    "\n",
    "# Getting feature vectors.\n",
    "twenty_w2v_aver = word_averaging_list(w2v_model_twenty.wv, tok_twenty_tot)\n",
    "\n",
    "\n",
    "### Try several clustering runs and store results.\n",
    "\n",
    "ARIs = [[], []]    # Store ARI values: random, k-means++ init.\n",
    "NMIs = [[], []]    # Store NMI values: random, k-means++ init.\n",
    "\n",
    "init_methods = ['random', 'k-means++']\n",
    "\n",
    "for j, ini in enumerate(init_methods):\n",
    "    print(\"Processing init = {}.\".format(ini))\n",
    "    for i in range(10):\n",
    "        print(\"Processing i = {}.\".format(i))\n",
    "\n",
    "        # Initialize the clustering alg.\n",
    "        km_cBow = KMeans(n_clusters=K, n_init=10, init=ini, max_iter=200)\n",
    "        km_cBow.fit(twenty_w2v_aver)\n",
    "    \n",
    "        ARI, NMI = evaluate_cluster(km_cBow, twenty_labels_tot)\n",
    "    \n",
    "        print(\"Iteration number: {}\".format(km_cBow.n_iter_))\n",
    "        print(\"Clustering performance for cBow:\\nARI: {0:.3f}\\nNMI: {1:.3f}\".format(ARI*100, NMI*100))\n",
    "   \n",
    "        ARIs[j].append(ARI)\n",
    "        NMIs[j].append(NMI)\n",
    "        \n",
    "df_cBow = pd.DataFrame(np.multiply(list(zip(ARIs[0], NMIs[0], ARIs[1], NMIs[1])), 100), \n",
    "                       columns =['ARI_random', 'NMI_random', 'ARI_kmeans', 'NMI_kmeans'])\n",
    "\n",
    "df_cBow.round(3).to_csv('results/cBow_clust_100topics.csv', header=True, index=False)"
   ]
  },
  {
   "cell_type": "markdown",
   "metadata": {},
   "source": [
    "## 5. PV models"
   ]
  },
  {
   "cell_type": "code",
   "execution_count": 8,
   "metadata": {},
   "outputs": [
    {
     "name": "stdout",
     "output_type": "stream",
     "text": [
      "Doc2Vec(dbow,d100,n5,t6) vocabulary scanned and state initialized\n",
      "Doc2Vec(dm/m,d100,n5,w5,t6) vocabulary scanned and state initialized\n",
      "Training Doc2Vec(dbow,d100,n5,t6)\n",
      "Training Doc2Vec(dm/m,d100,n5,w5,t6)\n",
      "Processing init = random.\n",
      "Processing i = 0.\n"
     ]
    },
    {
     "name": "stderr",
     "output_type": "stream",
     "text": [
      "/home/lpapariello/anaconda3/envs/ML/lib/python3.6/site-packages/sklearn/metrics/cluster/supervised.py:859: FutureWarning: The behavior of NMI will change in version 0.22. To match the behavior of 'v_measure_score', NMI will use average_method='arithmetic' by default.\n",
      "  FutureWarning)\n"
     ]
    },
    {
     "name": "stdout",
     "output_type": "stream",
     "text": [
      "Iteration number: 33\n",
      "Clustering performance for PV:\n",
      "ARI: 50.103\n",
      "NMI: 66.618\n",
      "Processing i = 1.\n"
     ]
    },
    {
     "name": "stderr",
     "output_type": "stream",
     "text": [
      "/home/lpapariello/anaconda3/envs/ML/lib/python3.6/site-packages/sklearn/metrics/cluster/supervised.py:859: FutureWarning: The behavior of NMI will change in version 0.22. To match the behavior of 'v_measure_score', NMI will use average_method='arithmetic' by default.\n",
      "  FutureWarning)\n"
     ]
    },
    {
     "name": "stdout",
     "output_type": "stream",
     "text": [
      "Iteration number: 182\n",
      "Clustering performance for PV:\n",
      "ARI: 50.562\n",
      "NMI: 66.564\n",
      "Processing i = 2.\n"
     ]
    },
    {
     "name": "stderr",
     "output_type": "stream",
     "text": [
      "/home/lpapariello/anaconda3/envs/ML/lib/python3.6/site-packages/sklearn/metrics/cluster/supervised.py:859: FutureWarning: The behavior of NMI will change in version 0.22. To match the behavior of 'v_measure_score', NMI will use average_method='arithmetic' by default.\n",
      "  FutureWarning)\n"
     ]
    },
    {
     "name": "stdout",
     "output_type": "stream",
     "text": [
      "Iteration number: 52\n",
      "Clustering performance for PV:\n",
      "ARI: 48.029\n",
      "NMI: 64.782\n",
      "Processing i = 3.\n"
     ]
    },
    {
     "name": "stderr",
     "output_type": "stream",
     "text": [
      "/home/lpapariello/anaconda3/envs/ML/lib/python3.6/site-packages/sklearn/metrics/cluster/supervised.py:859: FutureWarning: The behavior of NMI will change in version 0.22. To match the behavior of 'v_measure_score', NMI will use average_method='arithmetic' by default.\n",
      "  FutureWarning)\n"
     ]
    },
    {
     "name": "stdout",
     "output_type": "stream",
     "text": [
      "Iteration number: 80\n",
      "Clustering performance for PV:\n",
      "ARI: 47.967\n",
      "NMI: 64.746\n",
      "Processing i = 4.\n"
     ]
    },
    {
     "name": "stderr",
     "output_type": "stream",
     "text": [
      "/home/lpapariello/anaconda3/envs/ML/lib/python3.6/site-packages/sklearn/metrics/cluster/supervised.py:859: FutureWarning: The behavior of NMI will change in version 0.22. To match the behavior of 'v_measure_score', NMI will use average_method='arithmetic' by default.\n",
      "  FutureWarning)\n"
     ]
    },
    {
     "name": "stdout",
     "output_type": "stream",
     "text": [
      "Iteration number: 53\n",
      "Clustering performance for PV:\n",
      "ARI: 49.104\n",
      "NMI: 65.311\n",
      "Processing i = 5.\n"
     ]
    },
    {
     "name": "stderr",
     "output_type": "stream",
     "text": [
      "/home/lpapariello/anaconda3/envs/ML/lib/python3.6/site-packages/sklearn/metrics/cluster/supervised.py:859: FutureWarning: The behavior of NMI will change in version 0.22. To match the behavior of 'v_measure_score', NMI will use average_method='arithmetic' by default.\n",
      "  FutureWarning)\n"
     ]
    },
    {
     "name": "stdout",
     "output_type": "stream",
     "text": [
      "Iteration number: 31\n",
      "Clustering performance for PV:\n",
      "ARI: 50.002\n",
      "NMI: 66.449\n",
      "Processing i = 6.\n"
     ]
    },
    {
     "name": "stderr",
     "output_type": "stream",
     "text": [
      "/home/lpapariello/anaconda3/envs/ML/lib/python3.6/site-packages/sklearn/metrics/cluster/supervised.py:859: FutureWarning: The behavior of NMI will change in version 0.22. To match the behavior of 'v_measure_score', NMI will use average_method='arithmetic' by default.\n",
      "  FutureWarning)\n"
     ]
    },
    {
     "name": "stdout",
     "output_type": "stream",
     "text": [
      "Iteration number: 90\n",
      "Clustering performance for PV:\n",
      "ARI: 49.674\n",
      "NMI: 65.687\n",
      "Processing i = 7.\n"
     ]
    },
    {
     "name": "stderr",
     "output_type": "stream",
     "text": [
      "/home/lpapariello/anaconda3/envs/ML/lib/python3.6/site-packages/sklearn/metrics/cluster/supervised.py:859: FutureWarning: The behavior of NMI will change in version 0.22. To match the behavior of 'v_measure_score', NMI will use average_method='arithmetic' by default.\n",
      "  FutureWarning)\n"
     ]
    },
    {
     "name": "stdout",
     "output_type": "stream",
     "text": [
      "Iteration number: 39\n",
      "Clustering performance for PV:\n",
      "ARI: 51.361\n",
      "NMI: 66.705\n",
      "Processing i = 8.\n"
     ]
    },
    {
     "name": "stderr",
     "output_type": "stream",
     "text": [
      "/home/lpapariello/anaconda3/envs/ML/lib/python3.6/site-packages/sklearn/metrics/cluster/supervised.py:859: FutureWarning: The behavior of NMI will change in version 0.22. To match the behavior of 'v_measure_score', NMI will use average_method='arithmetic' by default.\n",
      "  FutureWarning)\n"
     ]
    },
    {
     "name": "stdout",
     "output_type": "stream",
     "text": [
      "Iteration number: 43\n",
      "Clustering performance for PV:\n",
      "ARI: 50.273\n",
      "NMI: 66.100\n",
      "Processing i = 9.\n"
     ]
    },
    {
     "name": "stderr",
     "output_type": "stream",
     "text": [
      "/home/lpapariello/anaconda3/envs/ML/lib/python3.6/site-packages/sklearn/metrics/cluster/supervised.py:859: FutureWarning: The behavior of NMI will change in version 0.22. To match the behavior of 'v_measure_score', NMI will use average_method='arithmetic' by default.\n",
      "  FutureWarning)\n"
     ]
    },
    {
     "name": "stdout",
     "output_type": "stream",
     "text": [
      "Iteration number: 64\n",
      "Clustering performance for PV:\n",
      "ARI: 50.948\n",
      "NMI: 66.375\n",
      "Processing init = k-means++.\n",
      "Processing i = 0.\n"
     ]
    },
    {
     "name": "stderr",
     "output_type": "stream",
     "text": [
      "/home/lpapariello/anaconda3/envs/ML/lib/python3.6/site-packages/sklearn/metrics/cluster/supervised.py:859: FutureWarning: The behavior of NMI will change in version 0.22. To match the behavior of 'v_measure_score', NMI will use average_method='arithmetic' by default.\n",
      "  FutureWarning)\n"
     ]
    },
    {
     "name": "stdout",
     "output_type": "stream",
     "text": [
      "Iteration number: 57\n",
      "Clustering performance for PV:\n",
      "ARI: 47.380\n",
      "NMI: 64.407\n",
      "Processing i = 1.\n"
     ]
    },
    {
     "name": "stderr",
     "output_type": "stream",
     "text": [
      "/home/lpapariello/anaconda3/envs/ML/lib/python3.6/site-packages/sklearn/metrics/cluster/supervised.py:859: FutureWarning: The behavior of NMI will change in version 0.22. To match the behavior of 'v_measure_score', NMI will use average_method='arithmetic' by default.\n",
      "  FutureWarning)\n"
     ]
    },
    {
     "name": "stdout",
     "output_type": "stream",
     "text": [
      "Iteration number: 52\n",
      "Clustering performance for PV:\n",
      "ARI: 48.126\n",
      "NMI: 65.194\n",
      "Processing i = 2.\n"
     ]
    },
    {
     "name": "stderr",
     "output_type": "stream",
     "text": [
      "/home/lpapariello/anaconda3/envs/ML/lib/python3.6/site-packages/sklearn/metrics/cluster/supervised.py:859: FutureWarning: The behavior of NMI will change in version 0.22. To match the behavior of 'v_measure_score', NMI will use average_method='arithmetic' by default.\n",
      "  FutureWarning)\n"
     ]
    },
    {
     "name": "stdout",
     "output_type": "stream",
     "text": [
      "Iteration number: 52\n",
      "Clustering performance for PV:\n",
      "ARI: 49.995\n",
      "NMI: 65.701\n",
      "Processing i = 3.\n"
     ]
    },
    {
     "name": "stderr",
     "output_type": "stream",
     "text": [
      "/home/lpapariello/anaconda3/envs/ML/lib/python3.6/site-packages/sklearn/metrics/cluster/supervised.py:859: FutureWarning: The behavior of NMI will change in version 0.22. To match the behavior of 'v_measure_score', NMI will use average_method='arithmetic' by default.\n",
      "  FutureWarning)\n"
     ]
    },
    {
     "name": "stdout",
     "output_type": "stream",
     "text": [
      "Iteration number: 36\n",
      "Clustering performance for PV:\n",
      "ARI: 50.728\n",
      "NMI: 66.697\n",
      "Processing i = 4.\n"
     ]
    },
    {
     "name": "stderr",
     "output_type": "stream",
     "text": [
      "/home/lpapariello/anaconda3/envs/ML/lib/python3.6/site-packages/sklearn/metrics/cluster/supervised.py:859: FutureWarning: The behavior of NMI will change in version 0.22. To match the behavior of 'v_measure_score', NMI will use average_method='arithmetic' by default.\n",
      "  FutureWarning)\n"
     ]
    },
    {
     "name": "stdout",
     "output_type": "stream",
     "text": [
      "Iteration number: 129\n",
      "Clustering performance for PV:\n",
      "ARI: 48.132\n",
      "NMI: 65.169\n",
      "Processing i = 5.\n"
     ]
    },
    {
     "name": "stderr",
     "output_type": "stream",
     "text": [
      "/home/lpapariello/anaconda3/envs/ML/lib/python3.6/site-packages/sklearn/metrics/cluster/supervised.py:859: FutureWarning: The behavior of NMI will change in version 0.22. To match the behavior of 'v_measure_score', NMI will use average_method='arithmetic' by default.\n",
      "  FutureWarning)\n"
     ]
    },
    {
     "name": "stdout",
     "output_type": "stream",
     "text": [
      "Iteration number: 70\n",
      "Clustering performance for PV:\n",
      "ARI: 50.267\n",
      "NMI: 66.205\n",
      "Processing i = 6.\n"
     ]
    },
    {
     "name": "stderr",
     "output_type": "stream",
     "text": [
      "/home/lpapariello/anaconda3/envs/ML/lib/python3.6/site-packages/sklearn/metrics/cluster/supervised.py:859: FutureWarning: The behavior of NMI will change in version 0.22. To match the behavior of 'v_measure_score', NMI will use average_method='arithmetic' by default.\n",
      "  FutureWarning)\n"
     ]
    },
    {
     "name": "stdout",
     "output_type": "stream",
     "text": [
      "Iteration number: 29\n",
      "Clustering performance for PV:\n",
      "ARI: 51.319\n",
      "NMI: 66.462\n",
      "Processing i = 7.\n"
     ]
    },
    {
     "name": "stderr",
     "output_type": "stream",
     "text": [
      "/home/lpapariello/anaconda3/envs/ML/lib/python3.6/site-packages/sklearn/metrics/cluster/supervised.py:859: FutureWarning: The behavior of NMI will change in version 0.22. To match the behavior of 'v_measure_score', NMI will use average_method='arithmetic' by default.\n",
      "  FutureWarning)\n"
     ]
    },
    {
     "name": "stdout",
     "output_type": "stream",
     "text": [
      "Iteration number: 58\n",
      "Clustering performance for PV:\n",
      "ARI: 52.462\n",
      "NMI: 67.607\n",
      "Processing i = 8.\n"
     ]
    },
    {
     "name": "stderr",
     "output_type": "stream",
     "text": [
      "/home/lpapariello/anaconda3/envs/ML/lib/python3.6/site-packages/sklearn/metrics/cluster/supervised.py:859: FutureWarning: The behavior of NMI will change in version 0.22. To match the behavior of 'v_measure_score', NMI will use average_method='arithmetic' by default.\n",
      "  FutureWarning)\n"
     ]
    },
    {
     "name": "stdout",
     "output_type": "stream",
     "text": [
      "Iteration number: 116\n",
      "Clustering performance for PV:\n",
      "ARI: 48.147\n",
      "NMI: 65.166\n",
      "Processing i = 9.\n"
     ]
    },
    {
     "name": "stderr",
     "output_type": "stream",
     "text": [
      "/home/lpapariello/anaconda3/envs/ML/lib/python3.6/site-packages/sklearn/metrics/cluster/supervised.py:859: FutureWarning: The behavior of NMI will change in version 0.22. To match the behavior of 'v_measure_score', NMI will use average_method='arithmetic' by default.\n",
      "  FutureWarning)\n"
     ]
    },
    {
     "name": "stdout",
     "output_type": "stream",
     "text": [
      "Iteration number: 47\n",
      "Clustering performance for PV:\n",
      "ARI: 54.003\n",
      "NMI: 67.496\n",
      "Processing init = random.\n",
      "Processing i = 0.\n"
     ]
    },
    {
     "name": "stderr",
     "output_type": "stream",
     "text": [
      "/home/lpapariello/anaconda3/envs/ML/lib/python3.6/site-packages/sklearn/metrics/cluster/supervised.py:859: FutureWarning: The behavior of NMI will change in version 0.22. To match the behavior of 'v_measure_score', NMI will use average_method='arithmetic' by default.\n",
      "  FutureWarning)\n"
     ]
    },
    {
     "name": "stdout",
     "output_type": "stream",
     "text": [
      "Iteration number: 35\n",
      "Clustering performance for PV:\n",
      "ARI: 9.794\n",
      "NMI: 40.886\n",
      "Processing i = 1.\n"
     ]
    },
    {
     "name": "stderr",
     "output_type": "stream",
     "text": [
      "/home/lpapariello/anaconda3/envs/ML/lib/python3.6/site-packages/sklearn/metrics/cluster/supervised.py:859: FutureWarning: The behavior of NMI will change in version 0.22. To match the behavior of 'v_measure_score', NMI will use average_method='arithmetic' by default.\n",
      "  FutureWarning)\n"
     ]
    },
    {
     "name": "stdout",
     "output_type": "stream",
     "text": [
      "Iteration number: 95\n",
      "Clustering performance for PV:\n",
      "ARI: 9.803\n",
      "NMI: 42.196\n",
      "Processing i = 2.\n"
     ]
    },
    {
     "name": "stderr",
     "output_type": "stream",
     "text": [
      "/home/lpapariello/anaconda3/envs/ML/lib/python3.6/site-packages/sklearn/metrics/cluster/supervised.py:859: FutureWarning: The behavior of NMI will change in version 0.22. To match the behavior of 'v_measure_score', NMI will use average_method='arithmetic' by default.\n",
      "  FutureWarning)\n"
     ]
    },
    {
     "name": "stdout",
     "output_type": "stream",
     "text": [
      "Iteration number: 70\n",
      "Clustering performance for PV:\n",
      "ARI: 12.506\n",
      "NMI: 40.188\n",
      "Processing i = 3.\n"
     ]
    },
    {
     "name": "stderr",
     "output_type": "stream",
     "text": [
      "/home/lpapariello/anaconda3/envs/ML/lib/python3.6/site-packages/sklearn/metrics/cluster/supervised.py:859: FutureWarning: The behavior of NMI will change in version 0.22. To match the behavior of 'v_measure_score', NMI will use average_method='arithmetic' by default.\n",
      "  FutureWarning)\n"
     ]
    },
    {
     "name": "stdout",
     "output_type": "stream",
     "text": [
      "Iteration number: 73\n",
      "Clustering performance for PV:\n",
      "ARI: 9.657\n",
      "NMI: 41.679\n",
      "Processing i = 4.\n"
     ]
    },
    {
     "name": "stderr",
     "output_type": "stream",
     "text": [
      "/home/lpapariello/anaconda3/envs/ML/lib/python3.6/site-packages/sklearn/metrics/cluster/supervised.py:859: FutureWarning: The behavior of NMI will change in version 0.22. To match the behavior of 'v_measure_score', NMI will use average_method='arithmetic' by default.\n",
      "  FutureWarning)\n"
     ]
    },
    {
     "name": "stdout",
     "output_type": "stream",
     "text": [
      "Iteration number: 41\n",
      "Clustering performance for PV:\n",
      "ARI: 9.055\n",
      "NMI: 39.258\n",
      "Processing i = 5.\n"
     ]
    },
    {
     "name": "stderr",
     "output_type": "stream",
     "text": [
      "/home/lpapariello/anaconda3/envs/ML/lib/python3.6/site-packages/sklearn/metrics/cluster/supervised.py:859: FutureWarning: The behavior of NMI will change in version 0.22. To match the behavior of 'v_measure_score', NMI will use average_method='arithmetic' by default.\n",
      "  FutureWarning)\n"
     ]
    },
    {
     "name": "stdout",
     "output_type": "stream",
     "text": [
      "Iteration number: 51\n",
      "Clustering performance for PV:\n",
      "ARI: 10.309\n",
      "NMI: 42.769\n",
      "Processing i = 6.\n"
     ]
    },
    {
     "name": "stderr",
     "output_type": "stream",
     "text": [
      "/home/lpapariello/anaconda3/envs/ML/lib/python3.6/site-packages/sklearn/metrics/cluster/supervised.py:859: FutureWarning: The behavior of NMI will change in version 0.22. To match the behavior of 'v_measure_score', NMI will use average_method='arithmetic' by default.\n",
      "  FutureWarning)\n"
     ]
    },
    {
     "name": "stdout",
     "output_type": "stream",
     "text": [
      "Iteration number: 39\n",
      "Clustering performance for PV:\n",
      "ARI: 11.955\n",
      "NMI: 38.798\n",
      "Processing i = 7.\n"
     ]
    },
    {
     "name": "stderr",
     "output_type": "stream",
     "text": [
      "/home/lpapariello/anaconda3/envs/ML/lib/python3.6/site-packages/sklearn/metrics/cluster/supervised.py:859: FutureWarning: The behavior of NMI will change in version 0.22. To match the behavior of 'v_measure_score', NMI will use average_method='arithmetic' by default.\n",
      "  FutureWarning)\n"
     ]
    },
    {
     "name": "stdout",
     "output_type": "stream",
     "text": [
      "Iteration number: 49\n",
      "Clustering performance for PV:\n",
      "ARI: 12.511\n",
      "NMI: 39.562\n",
      "Processing i = 8.\n"
     ]
    },
    {
     "name": "stderr",
     "output_type": "stream",
     "text": [
      "/home/lpapariello/anaconda3/envs/ML/lib/python3.6/site-packages/sklearn/metrics/cluster/supervised.py:859: FutureWarning: The behavior of NMI will change in version 0.22. To match the behavior of 'v_measure_score', NMI will use average_method='arithmetic' by default.\n",
      "  FutureWarning)\n"
     ]
    },
    {
     "name": "stdout",
     "output_type": "stream",
     "text": [
      "Iteration number: 98\n",
      "Clustering performance for PV:\n",
      "ARI: 9.949\n",
      "NMI: 42.287\n",
      "Processing i = 9.\n"
     ]
    },
    {
     "name": "stderr",
     "output_type": "stream",
     "text": [
      "/home/lpapariello/anaconda3/envs/ML/lib/python3.6/site-packages/sklearn/metrics/cluster/supervised.py:859: FutureWarning: The behavior of NMI will change in version 0.22. To match the behavior of 'v_measure_score', NMI will use average_method='arithmetic' by default.\n",
      "  FutureWarning)\n"
     ]
    },
    {
     "name": "stdout",
     "output_type": "stream",
     "text": [
      "Iteration number: 44\n",
      "Clustering performance for PV:\n",
      "ARI: 9.669\n",
      "NMI: 41.861\n",
      "Processing init = k-means++.\n",
      "Processing i = 0.\n"
     ]
    },
    {
     "name": "stderr",
     "output_type": "stream",
     "text": [
      "/home/lpapariello/anaconda3/envs/ML/lib/python3.6/site-packages/sklearn/metrics/cluster/supervised.py:859: FutureWarning: The behavior of NMI will change in version 0.22. To match the behavior of 'v_measure_score', NMI will use average_method='arithmetic' by default.\n",
      "  FutureWarning)\n"
     ]
    },
    {
     "name": "stdout",
     "output_type": "stream",
     "text": [
      "Iteration number: 80\n",
      "Clustering performance for PV:\n",
      "ARI: 9.480\n",
      "NMI: 39.817\n",
      "Processing i = 1.\n"
     ]
    },
    {
     "name": "stderr",
     "output_type": "stream",
     "text": [
      "/home/lpapariello/anaconda3/envs/ML/lib/python3.6/site-packages/sklearn/metrics/cluster/supervised.py:859: FutureWarning: The behavior of NMI will change in version 0.22. To match the behavior of 'v_measure_score', NMI will use average_method='arithmetic' by default.\n",
      "  FutureWarning)\n"
     ]
    },
    {
     "name": "stdout",
     "output_type": "stream",
     "text": [
      "Iteration number: 65\n",
      "Clustering performance for PV:\n",
      "ARI: 8.826\n",
      "NMI: 39.654\n",
      "Processing i = 2.\n"
     ]
    },
    {
     "name": "stderr",
     "output_type": "stream",
     "text": [
      "/home/lpapariello/anaconda3/envs/ML/lib/python3.6/site-packages/sklearn/metrics/cluster/supervised.py:859: FutureWarning: The behavior of NMI will change in version 0.22. To match the behavior of 'v_measure_score', NMI will use average_method='arithmetic' by default.\n",
      "  FutureWarning)\n"
     ]
    },
    {
     "name": "stdout",
     "output_type": "stream",
     "text": [
      "Iteration number: 47\n",
      "Clustering performance for PV:\n",
      "ARI: 9.314\n",
      "NMI: 40.576\n",
      "Processing i = 3.\n"
     ]
    },
    {
     "name": "stderr",
     "output_type": "stream",
     "text": [
      "/home/lpapariello/anaconda3/envs/ML/lib/python3.6/site-packages/sklearn/metrics/cluster/supervised.py:859: FutureWarning: The behavior of NMI will change in version 0.22. To match the behavior of 'v_measure_score', NMI will use average_method='arithmetic' by default.\n",
      "  FutureWarning)\n"
     ]
    },
    {
     "name": "stdout",
     "output_type": "stream",
     "text": [
      "Iteration number: 48\n",
      "Clustering performance for PV:\n",
      "ARI: 9.133\n",
      "NMI: 40.035\n",
      "Processing i = 4.\n"
     ]
    },
    {
     "name": "stderr",
     "output_type": "stream",
     "text": [
      "/home/lpapariello/anaconda3/envs/ML/lib/python3.6/site-packages/sklearn/metrics/cluster/supervised.py:859: FutureWarning: The behavior of NMI will change in version 0.22. To match the behavior of 'v_measure_score', NMI will use average_method='arithmetic' by default.\n",
      "  FutureWarning)\n"
     ]
    },
    {
     "name": "stdout",
     "output_type": "stream",
     "text": [
      "Iteration number: 57\n",
      "Clustering performance for PV:\n",
      "ARI: 9.175\n",
      "NMI: 40.476\n",
      "Processing i = 5.\n"
     ]
    },
    {
     "name": "stderr",
     "output_type": "stream",
     "text": [
      "/home/lpapariello/anaconda3/envs/ML/lib/python3.6/site-packages/sklearn/metrics/cluster/supervised.py:859: FutureWarning: The behavior of NMI will change in version 0.22. To match the behavior of 'v_measure_score', NMI will use average_method='arithmetic' by default.\n",
      "  FutureWarning)\n"
     ]
    },
    {
     "name": "stdout",
     "output_type": "stream",
     "text": [
      "Iteration number: 59\n",
      "Clustering performance for PV:\n",
      "ARI: 8.775\n",
      "NMI: 39.458\n",
      "Processing i = 6.\n"
     ]
    },
    {
     "name": "stderr",
     "output_type": "stream",
     "text": [
      "/home/lpapariello/anaconda3/envs/ML/lib/python3.6/site-packages/sklearn/metrics/cluster/supervised.py:859: FutureWarning: The behavior of NMI will change in version 0.22. To match the behavior of 'v_measure_score', NMI will use average_method='arithmetic' by default.\n",
      "  FutureWarning)\n"
     ]
    },
    {
     "name": "stdout",
     "output_type": "stream",
     "text": [
      "Iteration number: 27\n",
      "Clustering performance for PV:\n",
      "ARI: 8.299\n",
      "NMI: 38.368\n",
      "Processing i = 7.\n"
     ]
    },
    {
     "name": "stderr",
     "output_type": "stream",
     "text": [
      "/home/lpapariello/anaconda3/envs/ML/lib/python3.6/site-packages/sklearn/metrics/cluster/supervised.py:859: FutureWarning: The behavior of NMI will change in version 0.22. To match the behavior of 'v_measure_score', NMI will use average_method='arithmetic' by default.\n",
      "  FutureWarning)\n"
     ]
    },
    {
     "name": "stdout",
     "output_type": "stream",
     "text": [
      "Iteration number: 77\n",
      "Clustering performance for PV:\n",
      "ARI: 9.535\n",
      "NMI: 40.658\n",
      "Processing i = 8.\n"
     ]
    },
    {
     "name": "stderr",
     "output_type": "stream",
     "text": [
      "/home/lpapariello/anaconda3/envs/ML/lib/python3.6/site-packages/sklearn/metrics/cluster/supervised.py:859: FutureWarning: The behavior of NMI will change in version 0.22. To match the behavior of 'v_measure_score', NMI will use average_method='arithmetic' by default.\n",
      "  FutureWarning)\n"
     ]
    },
    {
     "name": "stdout",
     "output_type": "stream",
     "text": [
      "Iteration number: 41\n",
      "Clustering performance for PV:\n",
      "ARI: 8.867\n",
      "NMI: 39.132\n",
      "Processing i = 9.\n",
      "Iteration number: 39\n",
      "Clustering performance for PV:\n",
      "ARI: 9.758\n",
      "NMI: 41.577\n"
     ]
    },
    {
     "name": "stderr",
     "output_type": "stream",
     "text": [
      "/home/lpapariello/anaconda3/envs/ML/lib/python3.6/site-packages/sklearn/metrics/cluster/supervised.py:859: FutureWarning: The behavior of NMI will change in version 0.22. To match the behavior of 'v_measure_score', NMI will use average_method='arithmetic' by default.\n",
      "  FutureWarning)\n"
     ]
    }
   ],
   "source": [
    "# For Doc2Vec data need to be tokenized + tagged.\n",
    "tagged_tok_twenty_tot = []\n",
    "\n",
    "for j, sent in enumerate(tok_twenty_tot):\n",
    "    tagged_tok_twenty_tot.append(TaggedDocument(words=sent, tags=[j]))\n",
    "    \n",
    "# Set up d2v model.\n",
    "cores = 6      # Threads used for training\n",
    "assert gensim.models.doc2vec.FAST_VERSION > -1, \"Too slow otherwise\"\n",
    "\n",
    "# Initialize 2 models: PV-DBOW and PV-DM.\n",
    "d2v_models = [\n",
    "    # PV-DBOW (dm=0).\n",
    "    Doc2Vec(dm=0, vector_size=n_top_high, window=5, min_count=1, sample=0, workers=cores),\n",
    "    # PV-DM (dm=1) with default averaging.\n",
    "    Doc2Vec(dm=1, vector_size=n_top_high, window=5, min_count=1, sample=0, workers=cores)\n",
    "]\n",
    "\n",
    "# Build the vocabulary\n",
    "for model in d2v_models:\n",
    "    model.build_vocab(tagged_tok_twenty_tot)\n",
    "    print(\"%s vocabulary scanned and state initialized\" % model)\n",
    "    \n",
    "# Train the models.\n",
    "for model in d2v_models: \n",
    "    print(\"Training %s\" % model)\n",
    "    model.train(tagged_tok_twenty_tot, total_examples=model.corpus_count, epochs=30)\n",
    "    \n",
    "\n",
    "### Try several clustering runs and store results.\n",
    "\n",
    "init_methods = ['random', 'k-means++']\n",
    "\n",
    "for m, model in enumerate(d2v_models):\n",
    "    ARIs = [[], []]    # Store ARI values: random, k-means++ init.\n",
    "    NMIs = [[], []]    # Store NMI values: random, k-means++ init.\n",
    "    feat_vecs_twenty = [model.infer_vector(doc.words) for doc in tagged_tok_twenty_tot]\n",
    "    for j, ini in enumerate(init_methods):\n",
    "        print(\"Processing init = {}.\".format(ini))\n",
    "        for i in range(10):\n",
    "            print(\"Processing i = {}.\".format(i))\n",
    "\n",
    "            # Initialize the clustering alg.\n",
    "            km_PV = KMeans(n_clusters=K, n_init=10, init=ini, max_iter=200)\n",
    "            km_PV.fit(feat_vecs_twenty)\n",
    "    \n",
    "            ARI, NMI = evaluate_cluster(km_PV, twenty_labels_tot)\n",
    "    \n",
    "            print(\"Iteration number: {}\".format(km_PV.n_iter_))\n",
    "            print(\"Clustering performance for PV:\\nARI: {0:.3f}\\nNMI: {1:.3f}\".format(ARI*100, NMI*100))\n",
    "   \n",
    "            ARIs[j].append(ARI)\n",
    "            NMIs[j].append(NMI)\n",
    "        \n",
    "    df_cBow = pd.DataFrame(np.multiply(list(zip(ARIs[0], NMIs[0], ARIs[1], NMIs[1])), 100), \n",
    "                           columns =['ARI_random', 'NMI_random', 'ARI_kmeans', 'NMI_kmeans'])\n",
    "    if m == 0:\n",
    "        df_cBow.round(3).to_csv('results/PV_DBOW_clust_30ep_100topics.csv', header=True, index=False)\n",
    "    else:\n",
    "        df_cBow.round(3).to_csv('results/PV_DM_clust_30ep_100topics.csv', header=True, index=False)"
   ]
  },
  {
   "cell_type": "markdown",
   "metadata": {},
   "source": [
    "## 6. FV-GMM"
   ]
  },
  {
   "cell_type": "code",
   "execution_count": 9,
   "metadata": {},
   "outputs": [
    {
     "name": "stderr",
     "output_type": "stream",
     "text": [
      "/home/lpapariello/anaconda3/envs/ML/lib/python3.6/site-packages/smart_open/smart_open_lib.py:398: UserWarning: This function is deprecated, use smart_open.open instead. See the migration notes for details: https://github.com/RaRe-Technologies/smart_open/blob/master/README.rst#migrating-to-the-new-open-function\n",
      "  'See the migration notes for details: %s' % _MIGRATION_NOTES_URL\n"
     ]
    }
   ],
   "source": [
    "# Load the cBow model.\n",
    "w2v_model_twenty = Word2Vec.load(\"models/cBow/cBow_clustering_100topics.model\")"
   ]
  },
  {
   "cell_type": "code",
   "execution_count": 10,
   "metadata": {
    "scrolled": true
   },
   "outputs": [
    {
     "name": "stdout",
     "output_type": "stream",
     "text": [
      "Fitting GMM...\n",
      "GMM iteration number: 189.\n",
      "Processing init = random.\n",
      "Processing i = 0.\n"
     ]
    },
    {
     "name": "stderr",
     "output_type": "stream",
     "text": [
      "/home/lpapariello/anaconda3/envs/ML/lib/python3.6/site-packages/sklearn/metrics/cluster/supervised.py:859: FutureWarning: The behavior of NMI will change in version 0.22. To match the behavior of 'v_measure_score', NMI will use average_method='arithmetic' by default.\n",
      "  FutureWarning)\n"
     ]
    },
    {
     "name": "stdout",
     "output_type": "stream",
     "text": [
      "Iteration number: 128\n",
      "Clustering performance for FV-GMM:\n",
      "ARI: 1.326\n",
      "NMI: 10.684\n",
      "Processing i = 1.\n"
     ]
    },
    {
     "name": "stderr",
     "output_type": "stream",
     "text": [
      "/home/lpapariello/anaconda3/envs/ML/lib/python3.6/site-packages/sklearn/metrics/cluster/supervised.py:859: FutureWarning: The behavior of NMI will change in version 0.22. To match the behavior of 'v_measure_score', NMI will use average_method='arithmetic' by default.\n",
      "  FutureWarning)\n"
     ]
    },
    {
     "name": "stdout",
     "output_type": "stream",
     "text": [
      "Iteration number: 188\n",
      "Clustering performance for FV-GMM:\n",
      "ARI: 1.591\n",
      "NMI: 10.351\n",
      "Processing i = 2.\n"
     ]
    },
    {
     "name": "stderr",
     "output_type": "stream",
     "text": [
      "/home/lpapariello/anaconda3/envs/ML/lib/python3.6/site-packages/sklearn/metrics/cluster/supervised.py:859: FutureWarning: The behavior of NMI will change in version 0.22. To match the behavior of 'v_measure_score', NMI will use average_method='arithmetic' by default.\n",
      "  FutureWarning)\n"
     ]
    },
    {
     "name": "stdout",
     "output_type": "stream",
     "text": [
      "Iteration number: 181\n",
      "Clustering performance for FV-GMM:\n",
      "ARI: 1.231\n",
      "NMI: 11.242\n",
      "Processing i = 3.\n"
     ]
    },
    {
     "name": "stderr",
     "output_type": "stream",
     "text": [
      "/home/lpapariello/anaconda3/envs/ML/lib/python3.6/site-packages/sklearn/metrics/cluster/supervised.py:859: FutureWarning: The behavior of NMI will change in version 0.22. To match the behavior of 'v_measure_score', NMI will use average_method='arithmetic' by default.\n",
      "  FutureWarning)\n"
     ]
    },
    {
     "name": "stdout",
     "output_type": "stream",
     "text": [
      "Iteration number: 200\n",
      "Clustering performance for FV-GMM:\n",
      "ARI: 1.613\n",
      "NMI: 10.371\n",
      "Processing i = 4.\n"
     ]
    },
    {
     "name": "stderr",
     "output_type": "stream",
     "text": [
      "/home/lpapariello/anaconda3/envs/ML/lib/python3.6/site-packages/sklearn/metrics/cluster/supervised.py:859: FutureWarning: The behavior of NMI will change in version 0.22. To match the behavior of 'v_measure_score', NMI will use average_method='arithmetic' by default.\n",
      "  FutureWarning)\n"
     ]
    },
    {
     "name": "stdout",
     "output_type": "stream",
     "text": [
      "Iteration number: 117\n",
      "Clustering performance for FV-GMM:\n",
      "ARI: 2.533\n",
      "NMI: 13.622\n",
      "Processing i = 5.\n"
     ]
    },
    {
     "name": "stderr",
     "output_type": "stream",
     "text": [
      "/home/lpapariello/anaconda3/envs/ML/lib/python3.6/site-packages/sklearn/metrics/cluster/supervised.py:859: FutureWarning: The behavior of NMI will change in version 0.22. To match the behavior of 'v_measure_score', NMI will use average_method='arithmetic' by default.\n",
      "  FutureWarning)\n"
     ]
    },
    {
     "name": "stdout",
     "output_type": "stream",
     "text": [
      "Iteration number: 190\n",
      "Clustering performance for FV-GMM:\n",
      "ARI: 1.591\n",
      "NMI: 10.351\n",
      "Processing i = 6.\n"
     ]
    },
    {
     "name": "stderr",
     "output_type": "stream",
     "text": [
      "/home/lpapariello/anaconda3/envs/ML/lib/python3.6/site-packages/sklearn/metrics/cluster/supervised.py:859: FutureWarning: The behavior of NMI will change in version 0.22. To match the behavior of 'v_measure_score', NMI will use average_method='arithmetic' by default.\n",
      "  FutureWarning)\n"
     ]
    },
    {
     "name": "stdout",
     "output_type": "stream",
     "text": [
      "Iteration number: 186\n",
      "Clustering performance for FV-GMM:\n",
      "ARI: 1.591\n",
      "NMI: 10.351\n",
      "Processing i = 7.\n"
     ]
    },
    {
     "name": "stderr",
     "output_type": "stream",
     "text": [
      "/home/lpapariello/anaconda3/envs/ML/lib/python3.6/site-packages/sklearn/metrics/cluster/supervised.py:859: FutureWarning: The behavior of NMI will change in version 0.22. To match the behavior of 'v_measure_score', NMI will use average_method='arithmetic' by default.\n",
      "  FutureWarning)\n"
     ]
    },
    {
     "name": "stdout",
     "output_type": "stream",
     "text": [
      "Iteration number: 198\n",
      "Clustering performance for FV-GMM:\n",
      "ARI: 1.588\n",
      "NMI: 10.350\n",
      "Processing i = 8.\n"
     ]
    },
    {
     "name": "stderr",
     "output_type": "stream",
     "text": [
      "/home/lpapariello/anaconda3/envs/ML/lib/python3.6/site-packages/sklearn/metrics/cluster/supervised.py:859: FutureWarning: The behavior of NMI will change in version 0.22. To match the behavior of 'v_measure_score', NMI will use average_method='arithmetic' by default.\n",
      "  FutureWarning)\n"
     ]
    },
    {
     "name": "stdout",
     "output_type": "stream",
     "text": [
      "Iteration number: 200\n",
      "Clustering performance for FV-GMM:\n",
      "ARI: 1.615\n",
      "NMI: 10.371\n",
      "Processing i = 9.\n"
     ]
    },
    {
     "name": "stderr",
     "output_type": "stream",
     "text": [
      "/home/lpapariello/anaconda3/envs/ML/lib/python3.6/site-packages/sklearn/metrics/cluster/supervised.py:859: FutureWarning: The behavior of NMI will change in version 0.22. To match the behavior of 'v_measure_score', NMI will use average_method='arithmetic' by default.\n",
      "  FutureWarning)\n"
     ]
    },
    {
     "name": "stdout",
     "output_type": "stream",
     "text": [
      "Iteration number: 112\n",
      "Clustering performance for FV-GMM:\n",
      "ARI: 2.697\n",
      "NMI: 13.626\n",
      "Processing init = k-means++.\n",
      "Processing i = 0.\n"
     ]
    },
    {
     "name": "stderr",
     "output_type": "stream",
     "text": [
      "/home/lpapariello/anaconda3/envs/ML/lib/python3.6/site-packages/sklearn/metrics/cluster/supervised.py:859: FutureWarning: The behavior of NMI will change in version 0.22. To match the behavior of 'v_measure_score', NMI will use average_method='arithmetic' by default.\n",
      "  FutureWarning)\n"
     ]
    },
    {
     "name": "stdout",
     "output_type": "stream",
     "text": [
      "Iteration number: 29\n",
      "Clustering performance for FV-GMM:\n",
      "ARI: 0.484\n",
      "NMI: 3.261\n",
      "Processing i = 1.\n"
     ]
    },
    {
     "name": "stderr",
     "output_type": "stream",
     "text": [
      "/home/lpapariello/anaconda3/envs/ML/lib/python3.6/site-packages/sklearn/metrics/cluster/supervised.py:859: FutureWarning: The behavior of NMI will change in version 0.22. To match the behavior of 'v_measure_score', NMI will use average_method='arithmetic' by default.\n",
      "  FutureWarning)\n"
     ]
    },
    {
     "name": "stdout",
     "output_type": "stream",
     "text": [
      "Iteration number: 21\n",
      "Clustering performance for FV-GMM:\n",
      "ARI: 0.449\n",
      "NMI: 3.552\n",
      "Processing i = 2.\n"
     ]
    },
    {
     "name": "stderr",
     "output_type": "stream",
     "text": [
      "/home/lpapariello/anaconda3/envs/ML/lib/python3.6/site-packages/sklearn/metrics/cluster/supervised.py:859: FutureWarning: The behavior of NMI will change in version 0.22. To match the behavior of 'v_measure_score', NMI will use average_method='arithmetic' by default.\n",
      "  FutureWarning)\n"
     ]
    },
    {
     "name": "stdout",
     "output_type": "stream",
     "text": [
      "Iteration number: 65\n",
      "Clustering performance for FV-GMM:\n",
      "ARI: 0.489\n",
      "NMI: 3.294\n",
      "Processing i = 3.\n"
     ]
    },
    {
     "name": "stderr",
     "output_type": "stream",
     "text": [
      "/home/lpapariello/anaconda3/envs/ML/lib/python3.6/site-packages/sklearn/metrics/cluster/supervised.py:859: FutureWarning: The behavior of NMI will change in version 0.22. To match the behavior of 'v_measure_score', NMI will use average_method='arithmetic' by default.\n",
      "  FutureWarning)\n"
     ]
    },
    {
     "name": "stdout",
     "output_type": "stream",
     "text": [
      "Iteration number: 16\n",
      "Clustering performance for FV-GMM:\n",
      "ARI: 0.448\n",
      "NMI: 3.535\n",
      "Processing i = 4.\n"
     ]
    },
    {
     "name": "stderr",
     "output_type": "stream",
     "text": [
      "/home/lpapariello/anaconda3/envs/ML/lib/python3.6/site-packages/sklearn/metrics/cluster/supervised.py:859: FutureWarning: The behavior of NMI will change in version 0.22. To match the behavior of 'v_measure_score', NMI will use average_method='arithmetic' by default.\n",
      "  FutureWarning)\n"
     ]
    },
    {
     "name": "stdout",
     "output_type": "stream",
     "text": [
      "Iteration number: 20\n",
      "Clustering performance for FV-GMM:\n",
      "ARI: 0.442\n",
      "NMI: 3.477\n",
      "Processing i = 5.\n"
     ]
    },
    {
     "name": "stderr",
     "output_type": "stream",
     "text": [
      "/home/lpapariello/anaconda3/envs/ML/lib/python3.6/site-packages/sklearn/metrics/cluster/supervised.py:859: FutureWarning: The behavior of NMI will change in version 0.22. To match the behavior of 'v_measure_score', NMI will use average_method='arithmetic' by default.\n",
      "  FutureWarning)\n"
     ]
    },
    {
     "name": "stdout",
     "output_type": "stream",
     "text": [
      "Iteration number: 22\n",
      "Clustering performance for FV-GMM:\n",
      "ARI: 0.448\n",
      "NMI: 3.462\n",
      "Processing i = 6.\n"
     ]
    },
    {
     "name": "stderr",
     "output_type": "stream",
     "text": [
      "/home/lpapariello/anaconda3/envs/ML/lib/python3.6/site-packages/sklearn/metrics/cluster/supervised.py:859: FutureWarning: The behavior of NMI will change in version 0.22. To match the behavior of 'v_measure_score', NMI will use average_method='arithmetic' by default.\n",
      "  FutureWarning)\n"
     ]
    },
    {
     "name": "stdout",
     "output_type": "stream",
     "text": [
      "Iteration number: 13\n",
      "Clustering performance for FV-GMM:\n",
      "ARI: 0.443\n",
      "NMI: 3.570\n",
      "Processing i = 7.\n"
     ]
    },
    {
     "name": "stderr",
     "output_type": "stream",
     "text": [
      "/home/lpapariello/anaconda3/envs/ML/lib/python3.6/site-packages/sklearn/metrics/cluster/supervised.py:859: FutureWarning: The behavior of NMI will change in version 0.22. To match the behavior of 'v_measure_score', NMI will use average_method='arithmetic' by default.\n",
      "  FutureWarning)\n"
     ]
    },
    {
     "name": "stdout",
     "output_type": "stream",
     "text": [
      "Iteration number: 46\n",
      "Clustering performance for FV-GMM:\n",
      "ARI: 0.502\n",
      "NMI: 3.420\n",
      "Processing i = 8.\n"
     ]
    },
    {
     "name": "stderr",
     "output_type": "stream",
     "text": [
      "/home/lpapariello/anaconda3/envs/ML/lib/python3.6/site-packages/sklearn/metrics/cluster/supervised.py:859: FutureWarning: The behavior of NMI will change in version 0.22. To match the behavior of 'v_measure_score', NMI will use average_method='arithmetic' by default.\n",
      "  FutureWarning)\n"
     ]
    },
    {
     "name": "stdout",
     "output_type": "stream",
     "text": [
      "Iteration number: 14\n",
      "Clustering performance for FV-GMM:\n",
      "ARI: 0.443\n",
      "NMI: 3.530\n",
      "Processing i = 9.\n",
      "Iteration number: 28\n",
      "Clustering performance for FV-GMM:\n",
      "ARI: 0.442\n",
      "NMI: 3.475\n"
     ]
    },
    {
     "name": "stderr",
     "output_type": "stream",
     "text": [
      "/home/lpapariello/anaconda3/envs/ML/lib/python3.6/site-packages/sklearn/metrics/cluster/supervised.py:859: FutureWarning: The behavior of NMI will change in version 0.22. To match the behavior of 'v_measure_score', NMI will use average_method='arithmetic' by default.\n",
      "  FutureWarning)\n"
     ]
    }
   ],
   "source": [
    "gmm_twenty = mixture.GaussianMixture(n_components=mix_comp, covariance_type='diag', max_iter=200, \n",
    "                                     n_init=5, random_state=22, reg_covar=1e-05)\n",
    "print(\"Fitting GMM...\")\n",
    "\n",
    "gmm_twenty.fit(w2v_model_twenty.wv.vectors)\n",
    "\n",
    "print(\"GMM iteration number: {}.\".format(gmm_twenty.n_iter_))\n",
    "\n",
    "FV_twenty = [FV_GMM(BoWE_doc(w2v_model_twenty.wv, tok_twenty_tot[k]), gmm_twenty) for k in range(len(tok_twenty_tot))]\n",
    "\n",
    "### Try several clustering runs and store results.\n",
    "\n",
    "ARIs = [[], []]    # Store ARI values: random, k-means++ init.\n",
    "NMIs = [[], []]    # Store NMI values: random, k-means++ init.\n",
    "\n",
    "init_methods = ['random', 'k-means++']\n",
    "\n",
    "for j, ini in enumerate(init_methods):\n",
    "    print(\"Processing init = {}.\".format(ini))\n",
    "    for i in range(10):\n",
    "        print(\"Processing i = {}.\".format(i))\n",
    "\n",
    "        # Initialize the clustering alg.\n",
    "        km_FV_GMM = KMeans(n_clusters=K, n_init=10, init=ini, max_iter=200)\n",
    "        km_FV_GMM.fit(FV_twenty)\n",
    "    \n",
    "        ARI, NMI = evaluate_cluster(km_FV_GMM, twenty_labels_tot)\n",
    "    \n",
    "        print(\"Iteration number: {}\".format(km_FV_GMM.n_iter_))\n",
    "        print(\"Clustering performance for FV-GMM:\\nARI: {0:.3f}\\nNMI: {1:.3f}\".format(ARI*100, NMI*100))\n",
    "   \n",
    "        ARIs[j].append(ARI)\n",
    "        NMIs[j].append(NMI)\n",
    "        \n",
    "df_FV_GMM = pd.DataFrame(np.multiply(list(zip(ARIs[0], NMIs[0], ARIs[1], NMIs[1])), 100), \n",
    "                         columns =['ARI_random', 'NMI_random', 'ARI_kmeans', 'NMI_kmeans'])\n",
    "\n",
    "df_FV_GMM.round(3).to_csv('results/FV_GMM_clust_100topics.csv', header=True, index=False)"
   ]
  },
  {
   "cell_type": "markdown",
   "metadata": {},
   "source": [
    "## 7. FV-moVMF"
   ]
  },
  {
   "cell_type": "code",
   "execution_count": 11,
   "metadata": {},
   "outputs": [
    {
     "name": "stdout",
     "output_type": "stream",
     "text": [
      "Fitting moVMF...\n",
      "Processing init = random.\n",
      "Processing i = 0.\n"
     ]
    },
    {
     "name": "stderr",
     "output_type": "stream",
     "text": [
      "/home/lpapariello/anaconda3/envs/ML/lib/python3.6/site-packages/sklearn/metrics/cluster/supervised.py:859: FutureWarning: The behavior of NMI will change in version 0.22. To match the behavior of 'v_measure_score', NMI will use average_method='arithmetic' by default.\n",
      "  FutureWarning)\n"
     ]
    },
    {
     "name": "stdout",
     "output_type": "stream",
     "text": [
      "Iteration number: 155\n",
      "Clustering performance for FV-moVMF:\n",
      "ARI: 1.497\n",
      "NMI: 9.290\n",
      "Processing i = 1.\n"
     ]
    },
    {
     "name": "stderr",
     "output_type": "stream",
     "text": [
      "/home/lpapariello/anaconda3/envs/ML/lib/python3.6/site-packages/sklearn/metrics/cluster/supervised.py:859: FutureWarning: The behavior of NMI will change in version 0.22. To match the behavior of 'v_measure_score', NMI will use average_method='arithmetic' by default.\n",
      "  FutureWarning)\n"
     ]
    },
    {
     "name": "stdout",
     "output_type": "stream",
     "text": [
      "Iteration number: 92\n",
      "Clustering performance for FV-moVMF:\n",
      "ARI: 1.507\n",
      "NMI: 10.001\n",
      "Processing i = 2.\n"
     ]
    },
    {
     "name": "stderr",
     "output_type": "stream",
     "text": [
      "/home/lpapariello/anaconda3/envs/ML/lib/python3.6/site-packages/sklearn/metrics/cluster/supervised.py:859: FutureWarning: The behavior of NMI will change in version 0.22. To match the behavior of 'v_measure_score', NMI will use average_method='arithmetic' by default.\n",
      "  FutureWarning)\n"
     ]
    },
    {
     "name": "stdout",
     "output_type": "stream",
     "text": [
      "Iteration number: 119\n",
      "Clustering performance for FV-moVMF:\n",
      "ARI: 1.603\n",
      "NMI: 11.655\n",
      "Processing i = 3.\n"
     ]
    },
    {
     "name": "stderr",
     "output_type": "stream",
     "text": [
      "/home/lpapariello/anaconda3/envs/ML/lib/python3.6/site-packages/sklearn/metrics/cluster/supervised.py:859: FutureWarning: The behavior of NMI will change in version 0.22. To match the behavior of 'v_measure_score', NMI will use average_method='arithmetic' by default.\n",
      "  FutureWarning)\n"
     ]
    },
    {
     "name": "stdout",
     "output_type": "stream",
     "text": [
      "Iteration number: 163\n",
      "Clustering performance for FV-moVMF:\n",
      "ARI: 1.444\n",
      "NMI: 9.109\n",
      "Processing i = 4.\n"
     ]
    },
    {
     "name": "stderr",
     "output_type": "stream",
     "text": [
      "/home/lpapariello/anaconda3/envs/ML/lib/python3.6/site-packages/sklearn/metrics/cluster/supervised.py:859: FutureWarning: The behavior of NMI will change in version 0.22. To match the behavior of 'v_measure_score', NMI will use average_method='arithmetic' by default.\n",
      "  FutureWarning)\n"
     ]
    },
    {
     "name": "stdout",
     "output_type": "stream",
     "text": [
      "Iteration number: 153\n",
      "Clustering performance for FV-moVMF:\n",
      "ARI: 1.420\n",
      "NMI: 9.009\n",
      "Processing i = 5.\n"
     ]
    },
    {
     "name": "stderr",
     "output_type": "stream",
     "text": [
      "/home/lpapariello/anaconda3/envs/ML/lib/python3.6/site-packages/sklearn/metrics/cluster/supervised.py:859: FutureWarning: The behavior of NMI will change in version 0.22. To match the behavior of 'v_measure_score', NMI will use average_method='arithmetic' by default.\n",
      "  FutureWarning)\n"
     ]
    },
    {
     "name": "stdout",
     "output_type": "stream",
     "text": [
      "Iteration number: 152\n",
      "Clustering performance for FV-moVMF:\n",
      "ARI: 1.465\n",
      "NMI: 9.330\n",
      "Processing i = 6.\n"
     ]
    },
    {
     "name": "stderr",
     "output_type": "stream",
     "text": [
      "/home/lpapariello/anaconda3/envs/ML/lib/python3.6/site-packages/sklearn/metrics/cluster/supervised.py:859: FutureWarning: The behavior of NMI will change in version 0.22. To match the behavior of 'v_measure_score', NMI will use average_method='arithmetic' by default.\n",
      "  FutureWarning)\n"
     ]
    },
    {
     "name": "stdout",
     "output_type": "stream",
     "text": [
      "Iteration number: 114\n",
      "Clustering performance for FV-moVMF:\n",
      "ARI: 1.481\n",
      "NMI: 9.414\n",
      "Processing i = 7.\n"
     ]
    },
    {
     "name": "stderr",
     "output_type": "stream",
     "text": [
      "/home/lpapariello/anaconda3/envs/ML/lib/python3.6/site-packages/sklearn/metrics/cluster/supervised.py:859: FutureWarning: The behavior of NMI will change in version 0.22. To match the behavior of 'v_measure_score', NMI will use average_method='arithmetic' by default.\n",
      "  FutureWarning)\n"
     ]
    },
    {
     "name": "stdout",
     "output_type": "stream",
     "text": [
      "Iteration number: 132\n",
      "Clustering performance for FV-moVMF:\n",
      "ARI: 1.490\n",
      "NMI: 9.439\n",
      "Processing i = 8.\n"
     ]
    },
    {
     "name": "stderr",
     "output_type": "stream",
     "text": [
      "/home/lpapariello/anaconda3/envs/ML/lib/python3.6/site-packages/sklearn/metrics/cluster/supervised.py:859: FutureWarning: The behavior of NMI will change in version 0.22. To match the behavior of 'v_measure_score', NMI will use average_method='arithmetic' by default.\n",
      "  FutureWarning)\n"
     ]
    },
    {
     "name": "stdout",
     "output_type": "stream",
     "text": [
      "Iteration number: 158\n",
      "Clustering performance for FV-moVMF:\n",
      "ARI: 1.449\n",
      "NMI: 9.336\n",
      "Processing i = 9.\n"
     ]
    },
    {
     "name": "stderr",
     "output_type": "stream",
     "text": [
      "/home/lpapariello/anaconda3/envs/ML/lib/python3.6/site-packages/sklearn/metrics/cluster/supervised.py:859: FutureWarning: The behavior of NMI will change in version 0.22. To match the behavior of 'v_measure_score', NMI will use average_method='arithmetic' by default.\n",
      "  FutureWarning)\n"
     ]
    },
    {
     "name": "stdout",
     "output_type": "stream",
     "text": [
      "Iteration number: 160\n",
      "Clustering performance for FV-moVMF:\n",
      "ARI: 1.307\n",
      "NMI: 9.039\n",
      "Processing init = k-means++.\n",
      "Processing i = 0.\n"
     ]
    },
    {
     "name": "stderr",
     "output_type": "stream",
     "text": [
      "/home/lpapariello/anaconda3/envs/ML/lib/python3.6/site-packages/sklearn/metrics/cluster/supervised.py:859: FutureWarning: The behavior of NMI will change in version 0.22. To match the behavior of 'v_measure_score', NMI will use average_method='arithmetic' by default.\n",
      "  FutureWarning)\n"
     ]
    },
    {
     "name": "stdout",
     "output_type": "stream",
     "text": [
      "Iteration number: 27\n",
      "Clustering performance for FV-moVMF:\n",
      "ARI: 0.553\n",
      "NMI: 3.263\n",
      "Processing i = 1.\n"
     ]
    },
    {
     "name": "stderr",
     "output_type": "stream",
     "text": [
      "/home/lpapariello/anaconda3/envs/ML/lib/python3.6/site-packages/sklearn/metrics/cluster/supervised.py:859: FutureWarning: The behavior of NMI will change in version 0.22. To match the behavior of 'v_measure_score', NMI will use average_method='arithmetic' by default.\n",
      "  FutureWarning)\n"
     ]
    },
    {
     "name": "stdout",
     "output_type": "stream",
     "text": [
      "Iteration number: 24\n",
      "Clustering performance for FV-moVMF:\n",
      "ARI: 0.604\n",
      "NMI: 3.249\n",
      "Processing i = 2.\n"
     ]
    },
    {
     "name": "stderr",
     "output_type": "stream",
     "text": [
      "/home/lpapariello/anaconda3/envs/ML/lib/python3.6/site-packages/sklearn/metrics/cluster/supervised.py:859: FutureWarning: The behavior of NMI will change in version 0.22. To match the behavior of 'v_measure_score', NMI will use average_method='arithmetic' by default.\n",
      "  FutureWarning)\n"
     ]
    },
    {
     "name": "stdout",
     "output_type": "stream",
     "text": [
      "Iteration number: 22\n",
      "Clustering performance for FV-moVMF:\n",
      "ARI: 0.649\n",
      "NMI: 3.335\n",
      "Processing i = 3.\n"
     ]
    },
    {
     "name": "stderr",
     "output_type": "stream",
     "text": [
      "/home/lpapariello/anaconda3/envs/ML/lib/python3.6/site-packages/sklearn/metrics/cluster/supervised.py:859: FutureWarning: The behavior of NMI will change in version 0.22. To match the behavior of 'v_measure_score', NMI will use average_method='arithmetic' by default.\n",
      "  FutureWarning)\n"
     ]
    },
    {
     "name": "stdout",
     "output_type": "stream",
     "text": [
      "Iteration number: 73\n",
      "Clustering performance for FV-moVMF:\n",
      "ARI: 0.610\n",
      "NMI: 3.255\n",
      "Processing i = 4.\n"
     ]
    },
    {
     "name": "stderr",
     "output_type": "stream",
     "text": [
      "/home/lpapariello/anaconda3/envs/ML/lib/python3.6/site-packages/sklearn/metrics/cluster/supervised.py:859: FutureWarning: The behavior of NMI will change in version 0.22. To match the behavior of 'v_measure_score', NMI will use average_method='arithmetic' by default.\n",
      "  FutureWarning)\n"
     ]
    },
    {
     "name": "stdout",
     "output_type": "stream",
     "text": [
      "Iteration number: 29\n",
      "Clustering performance for FV-moVMF:\n",
      "ARI: 0.511\n",
      "NMI: 3.324\n",
      "Processing i = 5.\n"
     ]
    },
    {
     "name": "stderr",
     "output_type": "stream",
     "text": [
      "/home/lpapariello/anaconda3/envs/ML/lib/python3.6/site-packages/sklearn/metrics/cluster/supervised.py:859: FutureWarning: The behavior of NMI will change in version 0.22. To match the behavior of 'v_measure_score', NMI will use average_method='arithmetic' by default.\n",
      "  FutureWarning)\n"
     ]
    },
    {
     "name": "stdout",
     "output_type": "stream",
     "text": [
      "Iteration number: 46\n",
      "Clustering performance for FV-moVMF:\n",
      "ARI: 0.603\n",
      "NMI: 3.310\n",
      "Processing i = 6.\n"
     ]
    },
    {
     "name": "stderr",
     "output_type": "stream",
     "text": [
      "/home/lpapariello/anaconda3/envs/ML/lib/python3.6/site-packages/sklearn/metrics/cluster/supervised.py:859: FutureWarning: The behavior of NMI will change in version 0.22. To match the behavior of 'v_measure_score', NMI will use average_method='arithmetic' by default.\n",
      "  FutureWarning)\n"
     ]
    },
    {
     "name": "stdout",
     "output_type": "stream",
     "text": [
      "Iteration number: 46\n",
      "Clustering performance for FV-moVMF:\n",
      "ARI: 0.592\n",
      "NMI: 3.279\n",
      "Processing i = 7.\n"
     ]
    },
    {
     "name": "stderr",
     "output_type": "stream",
     "text": [
      "/home/lpapariello/anaconda3/envs/ML/lib/python3.6/site-packages/sklearn/metrics/cluster/supervised.py:859: FutureWarning: The behavior of NMI will change in version 0.22. To match the behavior of 'v_measure_score', NMI will use average_method='arithmetic' by default.\n",
      "  FutureWarning)\n"
     ]
    },
    {
     "name": "stdout",
     "output_type": "stream",
     "text": [
      "Iteration number: 39\n",
      "Clustering performance for FV-moVMF:\n",
      "ARI: 0.515\n",
      "NMI: 3.238\n",
      "Processing i = 8.\n"
     ]
    },
    {
     "name": "stderr",
     "output_type": "stream",
     "text": [
      "/home/lpapariello/anaconda3/envs/ML/lib/python3.6/site-packages/sklearn/metrics/cluster/supervised.py:859: FutureWarning: The behavior of NMI will change in version 0.22. To match the behavior of 'v_measure_score', NMI will use average_method='arithmetic' by default.\n",
      "  FutureWarning)\n"
     ]
    },
    {
     "name": "stdout",
     "output_type": "stream",
     "text": [
      "Iteration number: 30\n",
      "Clustering performance for FV-moVMF:\n",
      "ARI: 0.522\n",
      "NMI: 3.271\n",
      "Processing i = 9.\n",
      "Iteration number: 33\n",
      "Clustering performance for FV-moVMF:\n",
      "ARI: 0.593\n",
      "NMI: 3.284\n"
     ]
    },
    {
     "name": "stderr",
     "output_type": "stream",
     "text": [
      "/home/lpapariello/anaconda3/envs/ML/lib/python3.6/site-packages/sklearn/metrics/cluster/supervised.py:859: FutureWarning: The behavior of NMI will change in version 0.22. To match the behavior of 'v_measure_score', NMI will use average_method='arithmetic' by default.\n",
      "  FutureWarning)\n"
     ]
    }
   ],
   "source": [
    "vmf_twenty = VonMisesFisherMixture(n_clusters=mix_comp, posterior_type='soft', max_iter=300, \n",
    "                                   n_init=6, n_jobs=6, copy_x=True, normalize=True, random_state=22)\n",
    "\n",
    "print(\"Fitting moVMF...\")\n",
    "\n",
    "vmf_twenty.fit(normalize(w2v_model_twenty.wv.vectors))\n",
    "\n",
    "FV_twenty = [FV_moVMF(BoWE_doc(w2v_model_twenty.wv, tok_twenty_tot[k]), vmf_twenty) for k in range(len(tok_twenty_tot))]\n",
    "\n",
    "\n",
    "### Try several clustering runs and store results.\n",
    "\n",
    "ARIs = [[], []]    # Store ARI values: random, k-means++ init.\n",
    "NMIs = [[], []]    # Store NMI values: random, k-means++ init.\n",
    "\n",
    "init_methods = ['random', 'k-means++']\n",
    "\n",
    "for j, ini in enumerate(init_methods):\n",
    "    print(\"Processing init = {}.\".format(ini))\n",
    "    for i in range(10):\n",
    "        print(\"Processing i = {}.\".format(i))\n",
    "\n",
    "        # Initialize the clustering alg.\n",
    "        km_FV_moVMF = KMeans(n_clusters=K, n_init=10, init=ini, max_iter=200)\n",
    "        km_FV_moVMF.fit(FV_twenty)\n",
    "    \n",
    "        ARI, NMI = evaluate_cluster(km_FV_moVMF, twenty_labels_tot)\n",
    "    \n",
    "        print(\"Iteration number: {}\".format(km_FV_moVMF.n_iter_))\n",
    "        print(\"Clustering performance for FV-moVMF:\\nARI: {0:.3f}\\nNMI: {1:.3f}\".format(ARI*100, NMI*100))\n",
    "   \n",
    "        ARIs[j].append(ARI)\n",
    "        NMIs[j].append(NMI)\n",
    "        \n",
    "df_FV_moVMF = pd.DataFrame(np.multiply(list(zip(ARIs[0], NMIs[0], ARIs[1], NMIs[1])), 100), \n",
    "                           columns =['ARI_random', 'NMI_random', 'ARI_kmeans', 'NMI_kmeans'])\n",
    "\n",
    "df_FV_moVMF.round(3).to_csv('results/FV_moVMF_clust_100topics.csv', header=True, index=False)"
   ]
  },
  {
   "cell_type": "code",
   "execution_count": null,
   "metadata": {},
   "outputs": [],
   "source": []
  }
 ],
 "metadata": {
  "kernelspec": {
   "display_name": "Python 3",
   "language": "python",
   "name": "python3"
  },
  "language_info": {
   "codemirror_mode": {
    "name": "ipython",
    "version": 3
   },
   "file_extension": ".py",
   "mimetype": "text/x-python",
   "name": "python",
   "nbconvert_exporter": "python",
   "pygments_lexer": "ipython3",
   "version": "3.7.6"
  }
 },
 "nbformat": 4,
 "nbformat_minor": 2
}
