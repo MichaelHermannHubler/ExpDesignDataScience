{
 "metadata": {
  "language_info": {
   "codemirror_mode": {
    "name": "ipython",
    "version": 3
   },
   "file_extension": ".py",
   "mimetype": "text/x-python",
   "name": "python",
   "nbconvert_exporter": "python",
   "pygments_lexer": "ipython3",
   "version": "3.7.3-final"
  },
  "orig_nbformat": 2,
  "kernelspec": {
   "name": "python3",
   "display_name": "Python 3",
   "language": "python"
  }
 },
 "nbformat": 4,
 "nbformat_minor": 2,
 "cells": [
  {
   "source": [
    "# Expirement Design for Data Science\n",
    "## Group 26"
   ],
   "cell_type": "markdown",
   "metadata": {}
  },
  {
   "source": [
    "### Imports"
   ],
   "cell_type": "markdown",
   "metadata": {}
  },
  {
   "cell_type": "code",
   "execution_count": 1,
   "metadata": {},
   "outputs": [],
   "source": [
    "\n",
    "import pandas as pd\n",
    "import numpy as np\n",
    "from sklearn import datasets\n",
    "import os\n",
    "import nltk\n",
    "from nltk.corpus import stopwords\n",
    "import initialize\n",
    "\n",
    "\n",
    "\n",
    "# run in normal python shell once:\n",
    "#>>> import nltk\n",
    "#>>> nltk.download()\n",
    "# and download all packages (easiest)\n",
    "\n",
    "#https://link.springer.com/chapter/10.1007%2F978-3-030-45442-5_7#Bib1"
   ]
  },
  {
   "source": [
    "### Load Preprocessed Data"
   ],
   "cell_type": "markdown",
   "metadata": {}
  },
  {
   "cell_type": "code",
   "execution_count": 2,
   "metadata": {},
   "outputs": [],
   "source": [
    "(news_train, news_test) = initialize.get_20_newsgroups_dataset()\n",
    "subjectivity = initialize.get_subjectivity_dataset()\n",
    "polarity = initialize.get_polarity_dataset() # <-- can take some time "
   ]
  },
  {
   "source": [
    "### Step 1 - ..."
   ],
   "cell_type": "markdown",
   "metadata": {}
  },
  {
   "cell_type": "code",
   "execution_count": null,
   "metadata": {},
   "outputs": [],
   "source": [
    "#print(subjectivity.head())\n",
    "#print(polarity.head())\n",
    "polarity = initialize.get_polarity_dataset()"
   ]
  },
  {
   "cell_type": "code",
   "execution_count": null,
   "metadata": {},
   "outputs": [],
   "source": []
  }
 ]
}