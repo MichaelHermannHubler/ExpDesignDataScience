{
 "metadata": {
  "language_info": {
   "codemirror_mode": {
    "name": "ipython",
    "version": 3
   },
   "file_extension": ".py",
   "mimetype": "text/x-python",
   "name": "python",
   "nbconvert_exporter": "python",
   "pygments_lexer": "ipython3",
   "version": "3.8.5-final"
  },
  "orig_nbformat": 2,
  "kernelspec": {
   "name": "python3",
   "display_name": "Python 3",
   "language": "python"
  }
 },
 "nbformat": 4,
 "nbformat_minor": 2,
 "cells": [
  {
   "source": [
    "# Expirement Design for Data Science\n",
    "## Group 26"
   ],
   "cell_type": "markdown",
   "metadata": {}
  },
  {
   "source": [
    "### Imports"
   ],
   "cell_type": "markdown",
   "metadata": {}
  },
  {
   "cell_type": "code",
   "execution_count": 132,
   "metadata": {},
   "outputs": [],
   "source": [
    "\n",
    "import pandas as pd\n",
    "import numpy as np\n",
    "import os\n",
    "import initialize\n",
    "from rank_bm25 import BM25Okapi"
   ]
  },
  {
   "source": [
    "### Load Preprocessed Data"
   ],
   "cell_type": "markdown",
   "metadata": {}
  },
  {
   "cell_type": "code",
   "execution_count": 3,
   "metadata": {
    "tags": []
   },
   "outputs": [],
   "source": [
    "trec = initialize.get_TREC45_dataset()"
   ]
  },
  {
   "source": [
    "### Step 1 - BM25 Search"
   ],
   "cell_type": "markdown",
   "metadata": {}
  },
  {
   "cell_type": "code",
   "execution_count": 4,
   "metadata": {},
   "outputs": [
    {
     "output_type": "execute_result",
     "data": {
      "text/plain": [
       "    Number                            Title  \\\n",
       "0      301   International Organized Crime    \n",
       "1      302    Poliomyelitis and Post-Polio    \n",
       "2      303   Hubble Telescope Achievements    \n",
       "3      304    Endangered Species (Mammals)    \n",
       "4      305         Most Dangerous Vehicles    \n",
       "..     ...                              ...   \n",
       "245   696           safety plastic surgery    \n",
       "246   697           air traffic controller    \n",
       "247   698            literacy rates Africa    \n",
       "248   699                      term limits    \n",
       "249   700                gasoline tax U.S.    \n",
       "\n",
       "                                           Description  \\\n",
       "0    Identify organizations that participate in int...   \n",
       "1    Is the disease of Poliomyelitis (polio) under ...   \n",
       "2    Identify positive accomplishments of the Hubbl...   \n",
       "3    Compile a list of mammals that are considered ...   \n",
       "4    Which are the most crashworthy, and least cras...   \n",
       "..                                                 ...   \n",
       "245  Find documents that discuss the safety of or t...   \n",
       "246  What are working conditions and pay for U.S. a...   \n",
       "247     What are literacy rates in African countries?    \n",
       "248        What are the pros and cons of term limits?    \n",
       "249  What are the arguments for and against an incr...   \n",
       "\n",
       "                                             Narrative  \\\n",
       "0    A relevant document must as a minimum identify...   \n",
       "1    Relevant documents should contain data or outb...   \n",
       "2    Documents are relevant that show the Hubble te...   \n",
       "3    Any document identifying a mammal as endangere...   \n",
       "4    A relevant document will contain information o...   \n",
       "..                                                 ...   \n",
       "245  Relevant document must refer to a safety issue...   \n",
       "246  Relevant documents tell something about workin...   \n",
       "247  A relevant document will contain information a...   \n",
       "248  Relevant documents reflect an opinion on the v...   \n",
       "249  Relevant documents present reasons for or agai...   \n",
       "\n",
       "                          Title_tokenized  \\\n",
       "0       [International, Organized, Crime]   \n",
       "1             [Poliomyelitis, Post-Polio]   \n",
       "2       [Hubble, Telescope, Achievements]   \n",
       "3    [Endangered, Species, (, Mammals, )]   \n",
       "4             [Most, Dangerous, Vehicles]   \n",
       "..                                    ...   \n",
       "245            [safety, plastic, surgery]   \n",
       "246            [air, traffic, controller]   \n",
       "247             [literacy, rates, Africa]   \n",
       "248                        [term, limits]   \n",
       "249               [gasoline, tax, U.S, .]   \n",
       "\n",
       "                                 Description_tokenized  \\\n",
       "0    [Identify, organizations, participate, interna...   \n",
       "1    [Is, disease, Poliomyelitis, (, polio, ), cont...   \n",
       "2    [Identify, positive, accomplishments, Hubble, ...   \n",
       "3    [Compile, list, mammals, considered, endangere...   \n",
       "4    [Which, crashworthy, ,, least, crashworthy, ,,...   \n",
       "..                                                 ...   \n",
       "245  [Find, documents, discuss, safety, hazards, co...   \n",
       "246  [What, working, conditions, pay, U.S., air, tr...   \n",
       "247     [What, literacy, rates, African, countries, ?]   \n",
       "248                [What, pros, cons, term, limits, ?]   \n",
       "249  [What, arguments, increase, gasoline, taxes, U...   \n",
       "\n",
       "                                   Narrative_tokenized  \n",
       "0    [A, relevant, document, must, minimum, identif...  \n",
       "1    [Relevant, documents, contain, data, outbreaks...  \n",
       "2    [Documents, relevant, show, Hubble, telescope,...  \n",
       "3    [Any, document, identifying, mammal, endangere...  \n",
       "4    [A, relevant, document, contain, information, ...  \n",
       "..                                                 ...  \n",
       "245  [Relevant, document, must, refer, safety, issu...  \n",
       "246  [Relevant, documents, tell, something, working...  \n",
       "247  [A, relevant, document, contain, information, ...  \n",
       "248  [Relevant, documents, reflect, opinion, value,...  \n",
       "249  [Relevant, documents, present, reasons, raisin...  \n",
       "\n",
       "[250 rows x 7 columns]"
      ],
      "text/html": "<div>\n<style scoped>\n    .dataframe tbody tr th:only-of-type {\n        vertical-align: middle;\n    }\n\n    .dataframe tbody tr th {\n        vertical-align: top;\n    }\n\n    .dataframe thead th {\n        text-align: right;\n    }\n</style>\n<table border=\"1\" class=\"dataframe\">\n  <thead>\n    <tr style=\"text-align: right;\">\n      <th></th>\n      <th>Number</th>\n      <th>Title</th>\n      <th>Description</th>\n      <th>Narrative</th>\n      <th>Title_tokenized</th>\n      <th>Description_tokenized</th>\n      <th>Narrative_tokenized</th>\n    </tr>\n  </thead>\n  <tbody>\n    <tr>\n      <th>0</th>\n      <td>301</td>\n      <td>International Organized Crime</td>\n      <td>Identify organizations that participate in int...</td>\n      <td>A relevant document must as a minimum identify...</td>\n      <td>[International, Organized, Crime]</td>\n      <td>[Identify, organizations, participate, interna...</td>\n      <td>[A, relevant, document, must, minimum, identif...</td>\n    </tr>\n    <tr>\n      <th>1</th>\n      <td>302</td>\n      <td>Poliomyelitis and Post-Polio</td>\n      <td>Is the disease of Poliomyelitis (polio) under ...</td>\n      <td>Relevant documents should contain data or outb...</td>\n      <td>[Poliomyelitis, Post-Polio]</td>\n      <td>[Is, disease, Poliomyelitis, (, polio, ), cont...</td>\n      <td>[Relevant, documents, contain, data, outbreaks...</td>\n    </tr>\n    <tr>\n      <th>2</th>\n      <td>303</td>\n      <td>Hubble Telescope Achievements</td>\n      <td>Identify positive accomplishments of the Hubbl...</td>\n      <td>Documents are relevant that show the Hubble te...</td>\n      <td>[Hubble, Telescope, Achievements]</td>\n      <td>[Identify, positive, accomplishments, Hubble, ...</td>\n      <td>[Documents, relevant, show, Hubble, telescope,...</td>\n    </tr>\n    <tr>\n      <th>3</th>\n      <td>304</td>\n      <td>Endangered Species (Mammals)</td>\n      <td>Compile a list of mammals that are considered ...</td>\n      <td>Any document identifying a mammal as endangere...</td>\n      <td>[Endangered, Species, (, Mammals, )]</td>\n      <td>[Compile, list, mammals, considered, endangere...</td>\n      <td>[Any, document, identifying, mammal, endangere...</td>\n    </tr>\n    <tr>\n      <th>4</th>\n      <td>305</td>\n      <td>Most Dangerous Vehicles</td>\n      <td>Which are the most crashworthy, and least cras...</td>\n      <td>A relevant document will contain information o...</td>\n      <td>[Most, Dangerous, Vehicles]</td>\n      <td>[Which, crashworthy, ,, least, crashworthy, ,,...</td>\n      <td>[A, relevant, document, contain, information, ...</td>\n    </tr>\n    <tr>\n      <th>...</th>\n      <td>...</td>\n      <td>...</td>\n      <td>...</td>\n      <td>...</td>\n      <td>...</td>\n      <td>...</td>\n      <td>...</td>\n    </tr>\n    <tr>\n      <th>245</th>\n      <td>696</td>\n      <td>safety plastic surgery</td>\n      <td>Find documents that discuss the safety of or t...</td>\n      <td>Relevant document must refer to a safety issue...</td>\n      <td>[safety, plastic, surgery]</td>\n      <td>[Find, documents, discuss, safety, hazards, co...</td>\n      <td>[Relevant, document, must, refer, safety, issu...</td>\n    </tr>\n    <tr>\n      <th>246</th>\n      <td>697</td>\n      <td>air traffic controller</td>\n      <td>What are working conditions and pay for U.S. a...</td>\n      <td>Relevant documents tell something about workin...</td>\n      <td>[air, traffic, controller]</td>\n      <td>[What, working, conditions, pay, U.S., air, tr...</td>\n      <td>[Relevant, documents, tell, something, working...</td>\n    </tr>\n    <tr>\n      <th>247</th>\n      <td>698</td>\n      <td>literacy rates Africa</td>\n      <td>What are literacy rates in African countries?</td>\n      <td>A relevant document will contain information a...</td>\n      <td>[literacy, rates, Africa]</td>\n      <td>[What, literacy, rates, African, countries, ?]</td>\n      <td>[A, relevant, document, contain, information, ...</td>\n    </tr>\n    <tr>\n      <th>248</th>\n      <td>699</td>\n      <td>term limits</td>\n      <td>What are the pros and cons of term limits?</td>\n      <td>Relevant documents reflect an opinion on the v...</td>\n      <td>[term, limits]</td>\n      <td>[What, pros, cons, term, limits, ?]</td>\n      <td>[Relevant, documents, reflect, opinion, value,...</td>\n    </tr>\n    <tr>\n      <th>249</th>\n      <td>700</td>\n      <td>gasoline tax U.S.</td>\n      <td>What are the arguments for and against an incr...</td>\n      <td>Relevant documents present reasons for or agai...</td>\n      <td>[gasoline, tax, U.S, .]</td>\n      <td>[What, arguments, increase, gasoline, taxes, U...</td>\n      <td>[Relevant, documents, present, reasons, raisin...</td>\n    </tr>\n  </tbody>\n</table>\n<p>250 rows × 7 columns</p>\n</div>"
     },
     "metadata": {},
     "execution_count": 4
    }
   ],
   "source": [
    "trec"
   ]
  },
  {
   "cell_type": "code",
   "execution_count": 5,
   "metadata": {},
   "outputs": [],
   "source": [
    "bm25 = BM25Okapi(trec['Description_tokenized'], k1=1.2, b=0.75) # replace with corpuls['text'] in final "
   ]
  },
  {
   "cell_type": "code",
   "execution_count": 6,
   "metadata": {},
   "outputs": [],
   "source": [
    "bm25_res = [[x.Number, bm25.get_scores(x.Title_tokenized)] for x in trec.itertuples()] #replace Number with corpuls['Docid'] in final"
   ]
  },
  {
   "cell_type": "code",
   "execution_count": 7,
   "metadata": {},
   "outputs": [],
   "source": [
    "bm25_idx_value = [[res[0], [[i, x] for i, x in enumerate(res[1]) if float(x) != 0]] for res in bm25_res]"
   ]
  },
  {
   "cell_type": "code",
   "execution_count": 8,
   "metadata": {},
   "outputs": [],
   "source": [
    "arr = np.array(bm25_idx_value)"
   ]
  },
  {
   "source": [
    "bm25_search_formatted = pd.Series(arr[:,1], index=arr[:,0]).apply(pd.Series).stack()\n",
    "bm25_search_formatted = bm25_search_formatted.reset_index()\n",
    "bm25_search_formatted.to_csv('./data/variable_storage/bm25_search_formatted.csv', header=['Topic', 'Docid', 'Value'], index=False)"
   ],
   "cell_type": "code",
   "metadata": {},
   "execution_count": 123,
   "outputs": []
  },
  {
   "cell_type": "code",
   "execution_count": 128,
   "metadata": {},
   "outputs": [],
   "source": [
    "bm25_search_formatted = pd.read_csv('./data/variable_storage/bm25_search_formatted.csv')\n",
    "\n",
    "def makeArrayP1(text):\n",
    "    text = text[1:-1]\n",
    "    res = np.fromstring(text,sep=', ')\n",
    "    return res[0]\n",
    "\n",
    "def makeArrayP2(text):\n",
    "    text = text[1:-1]\n",
    "    res = np.fromstring(text,sep=', ')\n",
    "    return res[1]\n",
    "\n",
    "files = bm25_search_formatted.Value.apply(makeArrayP1)\n",
    "vals = bm25_search_formatted.Value.apply(makeArrayP2)\n",
    "bm25_search_formatted['Docid'] = files\n",
    "bm25_search_formatted['Value'] = vals\n",
    "\n",
    "bm25_search_formatted.Docid = trec.loc[bm25_search_formatted.Docid].Number.values"
   ]
  },
  {
   "source": [
    "### Normalize Values"
   ],
   "cell_type": "markdown",
   "metadata": {}
  },
  {
   "cell_type": "code",
   "execution_count": 129,
   "metadata": {},
   "outputs": [],
   "source": [
    "min_val = min(bm25_search_formatted.Value)\n",
    "max_val =  max(bm25_search_formatted.Value)\n",
    "\n",
    "bm25_search_formatted.Value = (bm25_search_formatted.Value - min_val) / (max_val - min_val)"
   ]
  }
 ]
}